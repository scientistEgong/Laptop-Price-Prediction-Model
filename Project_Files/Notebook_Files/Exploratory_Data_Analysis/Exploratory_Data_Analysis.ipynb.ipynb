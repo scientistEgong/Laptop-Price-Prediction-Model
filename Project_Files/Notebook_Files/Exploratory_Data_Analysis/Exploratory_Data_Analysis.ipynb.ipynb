{
 "cells": [
  {
   "cell_type": "markdown",
   "id": "18d31947",
   "metadata": {},
   "source": [
    "Exploratory Data Analysis (EDA)\n",
    "- Gain Insight from Raw data\n",
    "- Detect Errors, outliers, inconsistencies in values.\n",
    "- Understand Feature Distribution, Skewness, and Correlations.\n",
    "- Test Initail assumption about the data and it's structures.\n",
    "\n",
    "- Distribution plots (KDE plots, Violin plots)\n",
    "- Detect Outliers and Spread (Box plots, Violin plots, Strip plots)\n",
    "- Categorical Comparison (Bar charts, Count plot, Pie Chart)\n",
    "- Use Multivariate and Bivariate relationships to understand data trends."
   ]
  },
  {
   "cell_type": "code",
   "execution_count": 1,
   "id": "8cf2e67e-1d32-429e-b3fe-53958f7c088c",
   "metadata": {},
   "outputs": [],
   "source": [
    "import pandas as pd\n",
    "import numpy as np\n",
    "import matplotlib.pyplot as plt\n",
    "import seaborn as sns"
   ]
  },
  {
   "cell_type": "code",
   "execution_count": 2,
   "id": "d5d56b42-474c-4a89-9e4c-a344c02ae12f",
   "metadata": {},
   "outputs": [],
   "source": [
    "# Load  Datasets\n",
    "df = pd.read_csv(\"Datasets/laptop_price.csv\", encoding=\"latin1\")"
   ]
  },
  {
   "cell_type": "code",
   "execution_count": 3,
   "id": "dedb22a2",
   "metadata": {},
   "outputs": [
    {
     "data": {
      "application/vnd.microsoft.datawrangler.viewer.v0+json": {
       "columns": [
        {
         "name": "index",
         "rawType": "int64",
         "type": "integer"
        },
        {
         "name": "laptop_ID",
         "rawType": "int64",
         "type": "integer"
        },
        {
         "name": "Company",
         "rawType": "object",
         "type": "string"
        },
        {
         "name": "Product",
         "rawType": "object",
         "type": "string"
        },
        {
         "name": "TypeName",
         "rawType": "object",
         "type": "string"
        },
        {
         "name": "Inches",
         "rawType": "float64",
         "type": "float"
        },
        {
         "name": "ScreenResolution",
         "rawType": "object",
         "type": "string"
        },
        {
         "name": "Cpu",
         "rawType": "object",
         "type": "string"
        },
        {
         "name": "Ram",
         "rawType": "object",
         "type": "string"
        },
        {
         "name": "Memory",
         "rawType": "object",
         "type": "string"
        },
        {
         "name": "Gpu",
         "rawType": "object",
         "type": "string"
        },
        {
         "name": "OpSys",
         "rawType": "object",
         "type": "string"
        },
        {
         "name": "Weight",
         "rawType": "object",
         "type": "string"
        },
        {
         "name": "Price_euros",
         "rawType": "float64",
         "type": "float"
        }
       ],
       "ref": "b4f07195-4b3c-4ca7-892f-e4ee984e3e37",
       "rows": [
        [
         "0",
         "1",
         "Apple",
         "MacBook Pro",
         "Ultrabook",
         "13.3",
         "IPS Panel Retina Display 2560x1600",
         "Intel Core i5 2.3GHz",
         "8GB",
         "128GB SSD",
         "Intel Iris Plus Graphics 640",
         "macOS",
         "1.37kg",
         "1339.69"
        ],
        [
         "1",
         "2",
         "Apple",
         "Macbook Air",
         "Ultrabook",
         "13.3",
         "1440x900",
         "Intel Core i5 1.8GHz",
         "8GB",
         "128GB Flash Storage",
         "Intel HD Graphics 6000",
         "macOS",
         "1.34kg",
         "898.94"
        ],
        [
         "2",
         "3",
         "HP",
         "250 G6",
         "Notebook",
         "15.6",
         "Full HD 1920x1080",
         "Intel Core i5 7200U 2.5GHz",
         "8GB",
         "256GB SSD",
         "Intel HD Graphics 620",
         "No OS",
         "1.86kg",
         "575.0"
        ],
        [
         "3",
         "4",
         "Apple",
         "MacBook Pro",
         "Ultrabook",
         "15.4",
         "IPS Panel Retina Display 2880x1800",
         "Intel Core i7 2.7GHz",
         "16GB",
         "512GB SSD",
         "AMD Radeon Pro 455",
         "macOS",
         "1.83kg",
         "2537.45"
        ],
        [
         "4",
         "5",
         "Apple",
         "MacBook Pro",
         "Ultrabook",
         "13.3",
         "IPS Panel Retina Display 2560x1600",
         "Intel Core i5 3.1GHz",
         "8GB",
         "256GB SSD",
         "Intel Iris Plus Graphics 650",
         "macOS",
         "1.37kg",
         "1803.6"
        ]
       ],
       "shape": {
        "columns": 13,
        "rows": 5
       }
      },
      "text/html": [
       "<div>\n",
       "<style scoped>\n",
       "    .dataframe tbody tr th:only-of-type {\n",
       "        vertical-align: middle;\n",
       "    }\n",
       "\n",
       "    .dataframe tbody tr th {\n",
       "        vertical-align: top;\n",
       "    }\n",
       "\n",
       "    .dataframe thead th {\n",
       "        text-align: right;\n",
       "    }\n",
       "</style>\n",
       "<table border=\"1\" class=\"dataframe\">\n",
       "  <thead>\n",
       "    <tr style=\"text-align: right;\">\n",
       "      <th></th>\n",
       "      <th>laptop_ID</th>\n",
       "      <th>Company</th>\n",
       "      <th>Product</th>\n",
       "      <th>TypeName</th>\n",
       "      <th>Inches</th>\n",
       "      <th>ScreenResolution</th>\n",
       "      <th>Cpu</th>\n",
       "      <th>Ram</th>\n",
       "      <th>Memory</th>\n",
       "      <th>Gpu</th>\n",
       "      <th>OpSys</th>\n",
       "      <th>Weight</th>\n",
       "      <th>Price_euros</th>\n",
       "    </tr>\n",
       "  </thead>\n",
       "  <tbody>\n",
       "    <tr>\n",
       "      <th>0</th>\n",
       "      <td>1</td>\n",
       "      <td>Apple</td>\n",
       "      <td>MacBook Pro</td>\n",
       "      <td>Ultrabook</td>\n",
       "      <td>13.3</td>\n",
       "      <td>IPS Panel Retina Display 2560x1600</td>\n",
       "      <td>Intel Core i5 2.3GHz</td>\n",
       "      <td>8GB</td>\n",
       "      <td>128GB SSD</td>\n",
       "      <td>Intel Iris Plus Graphics 640</td>\n",
       "      <td>macOS</td>\n",
       "      <td>1.37kg</td>\n",
       "      <td>1339.69</td>\n",
       "    </tr>\n",
       "    <tr>\n",
       "      <th>1</th>\n",
       "      <td>2</td>\n",
       "      <td>Apple</td>\n",
       "      <td>Macbook Air</td>\n",
       "      <td>Ultrabook</td>\n",
       "      <td>13.3</td>\n",
       "      <td>1440x900</td>\n",
       "      <td>Intel Core i5 1.8GHz</td>\n",
       "      <td>8GB</td>\n",
       "      <td>128GB Flash Storage</td>\n",
       "      <td>Intel HD Graphics 6000</td>\n",
       "      <td>macOS</td>\n",
       "      <td>1.34kg</td>\n",
       "      <td>898.94</td>\n",
       "    </tr>\n",
       "    <tr>\n",
       "      <th>2</th>\n",
       "      <td>3</td>\n",
       "      <td>HP</td>\n",
       "      <td>250 G6</td>\n",
       "      <td>Notebook</td>\n",
       "      <td>15.6</td>\n",
       "      <td>Full HD 1920x1080</td>\n",
       "      <td>Intel Core i5 7200U 2.5GHz</td>\n",
       "      <td>8GB</td>\n",
       "      <td>256GB SSD</td>\n",
       "      <td>Intel HD Graphics 620</td>\n",
       "      <td>No OS</td>\n",
       "      <td>1.86kg</td>\n",
       "      <td>575.00</td>\n",
       "    </tr>\n",
       "    <tr>\n",
       "      <th>3</th>\n",
       "      <td>4</td>\n",
       "      <td>Apple</td>\n",
       "      <td>MacBook Pro</td>\n",
       "      <td>Ultrabook</td>\n",
       "      <td>15.4</td>\n",
       "      <td>IPS Panel Retina Display 2880x1800</td>\n",
       "      <td>Intel Core i7 2.7GHz</td>\n",
       "      <td>16GB</td>\n",
       "      <td>512GB SSD</td>\n",
       "      <td>AMD Radeon Pro 455</td>\n",
       "      <td>macOS</td>\n",
       "      <td>1.83kg</td>\n",
       "      <td>2537.45</td>\n",
       "    </tr>\n",
       "    <tr>\n",
       "      <th>4</th>\n",
       "      <td>5</td>\n",
       "      <td>Apple</td>\n",
       "      <td>MacBook Pro</td>\n",
       "      <td>Ultrabook</td>\n",
       "      <td>13.3</td>\n",
       "      <td>IPS Panel Retina Display 2560x1600</td>\n",
       "      <td>Intel Core i5 3.1GHz</td>\n",
       "      <td>8GB</td>\n",
       "      <td>256GB SSD</td>\n",
       "      <td>Intel Iris Plus Graphics 650</td>\n",
       "      <td>macOS</td>\n",
       "      <td>1.37kg</td>\n",
       "      <td>1803.60</td>\n",
       "    </tr>\n",
       "  </tbody>\n",
       "</table>\n",
       "</div>"
      ],
      "text/plain": [
       "   laptop_ID Company      Product   TypeName  Inches  \\\n",
       "0          1   Apple  MacBook Pro  Ultrabook    13.3   \n",
       "1          2   Apple  Macbook Air  Ultrabook    13.3   \n",
       "2          3      HP       250 G6   Notebook    15.6   \n",
       "3          4   Apple  MacBook Pro  Ultrabook    15.4   \n",
       "4          5   Apple  MacBook Pro  Ultrabook    13.3   \n",
       "\n",
       "                     ScreenResolution                         Cpu   Ram  \\\n",
       "0  IPS Panel Retina Display 2560x1600        Intel Core i5 2.3GHz   8GB   \n",
       "1                            1440x900        Intel Core i5 1.8GHz   8GB   \n",
       "2                   Full HD 1920x1080  Intel Core i5 7200U 2.5GHz   8GB   \n",
       "3  IPS Panel Retina Display 2880x1800        Intel Core i7 2.7GHz  16GB   \n",
       "4  IPS Panel Retina Display 2560x1600        Intel Core i5 3.1GHz   8GB   \n",
       "\n",
       "                Memory                           Gpu  OpSys  Weight  \\\n",
       "0            128GB SSD  Intel Iris Plus Graphics 640  macOS  1.37kg   \n",
       "1  128GB Flash Storage        Intel HD Graphics 6000  macOS  1.34kg   \n",
       "2            256GB SSD         Intel HD Graphics 620  No OS  1.86kg   \n",
       "3            512GB SSD            AMD Radeon Pro 455  macOS  1.83kg   \n",
       "4            256GB SSD  Intel Iris Plus Graphics 650  macOS  1.37kg   \n",
       "\n",
       "   Price_euros  \n",
       "0      1339.69  \n",
       "1       898.94  \n",
       "2       575.00  \n",
       "3      2537.45  \n",
       "4      1803.60  "
      ]
     },
     "execution_count": 3,
     "metadata": {},
     "output_type": "execute_result"
    }
   ],
   "source": [
    "df.head()"
   ]
  },
  {
   "cell_type": "code",
   "execution_count": 4,
   "id": "61e669fd",
   "metadata": {},
   "outputs": [
    {
     "name": "stdout",
     "output_type": "stream",
     "text": [
      "<class 'pandas.core.frame.DataFrame'>\n",
      "RangeIndex: 1303 entries, 0 to 1302\n",
      "Data columns (total 13 columns):\n",
      " #   Column            Non-Null Count  Dtype  \n",
      "---  ------            --------------  -----  \n",
      " 0   laptop_ID         1303 non-null   int64  \n",
      " 1   Company           1303 non-null   object \n",
      " 2   Product           1303 non-null   object \n",
      " 3   TypeName          1303 non-null   object \n",
      " 4   Inches            1303 non-null   float64\n",
      " 5   ScreenResolution  1303 non-null   object \n",
      " 6   Cpu               1303 non-null   object \n",
      " 7   Ram               1303 non-null   object \n",
      " 8   Memory            1303 non-null   object \n",
      " 9   Gpu               1303 non-null   object \n",
      " 10  OpSys             1303 non-null   object \n",
      " 11  Weight            1303 non-null   object \n",
      " 12  Price_euros       1303 non-null   float64\n",
      "dtypes: float64(2), int64(1), object(10)\n",
      "memory usage: 132.5+ KB\n"
     ]
    }
   ],
   "source": [
    "# Display Data types of datasets and memory allocation.\n",
    "df.info()"
   ]
  },
  {
   "cell_type": "code",
   "execution_count": 5,
   "id": "b505e865",
   "metadata": {},
   "outputs": [
    {
     "data": {
      "application/vnd.microsoft.datawrangler.viewer.v0+json": {
       "columns": [
        {
         "name": "index",
         "rawType": "object",
         "type": "string"
        },
        {
         "name": "laptop_ID",
         "rawType": "float64",
         "type": "float"
        },
        {
         "name": "Inches",
         "rawType": "float64",
         "type": "float"
        },
        {
         "name": "Price_euros",
         "rawType": "float64",
         "type": "float"
        }
       ],
       "ref": "44b9e313-be98-4db2-9766-7909fd8ec919",
       "rows": [
        [
         "count",
         "1303.0",
         "1303.0",
         "1303.0"
        ],
        [
         "mean",
         "660.1557943207981",
         "15.017191097467379",
         "1123.6869915579432"
        ],
        [
         "std",
         "381.1721043021387",
         "1.4263040545691645",
         "699.0090425337413"
        ],
        [
         "min",
         "1.0",
         "10.1",
         "174.0"
        ],
        [
         "25%",
         "331.5",
         "14.0",
         "599.0"
        ],
        [
         "50%",
         "659.0",
         "15.6",
         "977.0"
        ],
        [
         "75%",
         "990.5",
         "15.6",
         "1487.88"
        ],
        [
         "max",
         "1320.0",
         "18.4",
         "6099.0"
        ]
       ],
       "shape": {
        "columns": 3,
        "rows": 8
       }
      },
      "text/html": [
       "<div>\n",
       "<style scoped>\n",
       "    .dataframe tbody tr th:only-of-type {\n",
       "        vertical-align: middle;\n",
       "    }\n",
       "\n",
       "    .dataframe tbody tr th {\n",
       "        vertical-align: top;\n",
       "    }\n",
       "\n",
       "    .dataframe thead th {\n",
       "        text-align: right;\n",
       "    }\n",
       "</style>\n",
       "<table border=\"1\" class=\"dataframe\">\n",
       "  <thead>\n",
       "    <tr style=\"text-align: right;\">\n",
       "      <th></th>\n",
       "      <th>laptop_ID</th>\n",
       "      <th>Inches</th>\n",
       "      <th>Price_euros</th>\n",
       "    </tr>\n",
       "  </thead>\n",
       "  <tbody>\n",
       "    <tr>\n",
       "      <th>count</th>\n",
       "      <td>1303.000000</td>\n",
       "      <td>1303.000000</td>\n",
       "      <td>1303.000000</td>\n",
       "    </tr>\n",
       "    <tr>\n",
       "      <th>mean</th>\n",
       "      <td>660.155794</td>\n",
       "      <td>15.017191</td>\n",
       "      <td>1123.686992</td>\n",
       "    </tr>\n",
       "    <tr>\n",
       "      <th>std</th>\n",
       "      <td>381.172104</td>\n",
       "      <td>1.426304</td>\n",
       "      <td>699.009043</td>\n",
       "    </tr>\n",
       "    <tr>\n",
       "      <th>min</th>\n",
       "      <td>1.000000</td>\n",
       "      <td>10.100000</td>\n",
       "      <td>174.000000</td>\n",
       "    </tr>\n",
       "    <tr>\n",
       "      <th>25%</th>\n",
       "      <td>331.500000</td>\n",
       "      <td>14.000000</td>\n",
       "      <td>599.000000</td>\n",
       "    </tr>\n",
       "    <tr>\n",
       "      <th>50%</th>\n",
       "      <td>659.000000</td>\n",
       "      <td>15.600000</td>\n",
       "      <td>977.000000</td>\n",
       "    </tr>\n",
       "    <tr>\n",
       "      <th>75%</th>\n",
       "      <td>990.500000</td>\n",
       "      <td>15.600000</td>\n",
       "      <td>1487.880000</td>\n",
       "    </tr>\n",
       "    <tr>\n",
       "      <th>max</th>\n",
       "      <td>1320.000000</td>\n",
       "      <td>18.400000</td>\n",
       "      <td>6099.000000</td>\n",
       "    </tr>\n",
       "  </tbody>\n",
       "</table>\n",
       "</div>"
      ],
      "text/plain": [
       "         laptop_ID       Inches  Price_euros\n",
       "count  1303.000000  1303.000000  1303.000000\n",
       "mean    660.155794    15.017191  1123.686992\n",
       "std     381.172104     1.426304   699.009043\n",
       "min       1.000000    10.100000   174.000000\n",
       "25%     331.500000    14.000000   599.000000\n",
       "50%     659.000000    15.600000   977.000000\n",
       "75%     990.500000    15.600000  1487.880000\n",
       "max    1320.000000    18.400000  6099.000000"
      ]
     },
     "execution_count": 5,
     "metadata": {},
     "output_type": "execute_result"
    }
   ],
   "source": [
    "# Get summary of all columns data.\n",
    "df.describe()"
   ]
  },
  {
   "cell_type": "code",
   "execution_count": 6,
   "id": "be83bf89-3459-4934-83fd-e6a988ba63b2",
   "metadata": {},
   "outputs": [
    {
     "data": {
      "application/vnd.microsoft.datawrangler.viewer.v0+json": {
       "columns": [
        {
         "name": "index",
         "rawType": "object",
         "type": "string"
        },
        {
         "name": "0",
         "rawType": "int64",
         "type": "integer"
        }
       ],
       "ref": "17ca01d2-0811-4bce-ae68-278fbe972ce2",
       "rows": [
        [
         "laptop_ID",
         "0"
        ],
        [
         "Company",
         "0"
        ],
        [
         "Product",
         "0"
        ],
        [
         "TypeName",
         "0"
        ],
        [
         "Inches",
         "0"
        ],
        [
         "ScreenResolution",
         "0"
        ],
        [
         "Cpu",
         "0"
        ],
        [
         "Ram",
         "0"
        ],
        [
         "Memory",
         "0"
        ],
        [
         "Gpu",
         "0"
        ],
        [
         "OpSys",
         "0"
        ],
        [
         "Weight",
         "0"
        ],
        [
         "Price_euros",
         "0"
        ]
       ],
       "shape": {
        "columns": 1,
        "rows": 13
       }
      },
      "text/plain": [
       "laptop_ID           0\n",
       "Company             0\n",
       "Product             0\n",
       "TypeName            0\n",
       "Inches              0\n",
       "ScreenResolution    0\n",
       "Cpu                 0\n",
       "Ram                 0\n",
       "Memory              0\n",
       "Gpu                 0\n",
       "OpSys               0\n",
       "Weight              0\n",
       "Price_euros         0\n",
       "dtype: int64"
      ]
     },
     "execution_count": 6,
     "metadata": {},
     "output_type": "execute_result"
    }
   ],
   "source": [
    "# Capture Empty columns.\n",
    "df.isnull().sum()"
   ]
  },
  {
   "cell_type": "code",
   "execution_count": 7,
   "id": "c3b8cc66",
   "metadata": {},
   "outputs": [
    {
     "data": {
      "text/plain": [
       "Index(['laptop_ID', 'Company', 'Product', 'TypeName', 'Inches',\n",
       "       'ScreenResolution', 'Cpu', 'Ram', 'Memory', 'Gpu', 'OpSys', 'Weight',\n",
       "       'Price_euros'],\n",
       "      dtype='object')"
      ]
     },
     "execution_count": 7,
     "metadata": {},
     "output_type": "execute_result"
    }
   ],
   "source": [
    "# Display columns\n",
    "df.columns"
   ]
  },
  {
   "cell_type": "code",
   "execution_count": 8,
   "id": "fd28ebbe",
   "metadata": {},
   "outputs": [
    {
     "data": {
      "application/vnd.microsoft.datawrangler.viewer.v0+json": {
       "columns": [
        {
         "name": "index",
         "rawType": "object",
         "type": "string"
        },
        {
         "name": "0",
         "rawType": "int64",
         "type": "integer"
        }
       ],
       "ref": "3355a73e-186f-45d6-8e59-a6a190c5c5d5",
       "rows": [
        [
         "laptop_ID",
         "1303"
        ],
        [
         "Company",
         "19"
        ],
        [
         "Product",
         "618"
        ],
        [
         "TypeName",
         "6"
        ],
        [
         "Inches",
         "18"
        ],
        [
         "ScreenResolution",
         "40"
        ],
        [
         "Cpu",
         "118"
        ],
        [
         "Ram",
         "9"
        ],
        [
         "Memory",
         "39"
        ],
        [
         "Gpu",
         "110"
        ],
        [
         "OpSys",
         "9"
        ],
        [
         "Weight",
         "179"
        ],
        [
         "Price_euros",
         "791"
        ]
       ],
       "shape": {
        "columns": 1,
        "rows": 13
       }
      },
      "text/plain": [
       "laptop_ID           1303\n",
       "Company               19\n",
       "Product              618\n",
       "TypeName               6\n",
       "Inches                18\n",
       "ScreenResolution      40\n",
       "Cpu                  118\n",
       "Ram                    9\n",
       "Memory                39\n",
       "Gpu                  110\n",
       "OpSys                  9\n",
       "Weight               179\n",
       "Price_euros          791\n",
       "dtype: int64"
      ]
     },
     "execution_count": 8,
     "metadata": {},
     "output_type": "execute_result"
    }
   ],
   "source": [
    "# check for uniwue values.\n",
    "df.nunique()"
   ]
  },
  {
   "cell_type": "code",
   "execution_count": 9,
   "id": "86b25d2b",
   "metadata": {},
   "outputs": [
    {
     "data": {
      "text/plain": [
       "Index(['laptop_id', 'company', 'product', 'typename', 'inches',\n",
       "       'screenresolution', 'cpu', 'ram', 'memory', 'gpu', 'opsys', 'weight',\n",
       "       'price_euros'],\n",
       "      dtype='object')"
      ]
     },
     "execution_count": 9,
     "metadata": {},
     "output_type": "execute_result"
    }
   ],
   "source": [
    "# Standardize columns names for consistency.\n",
    "# Standardise column names to lowercase and add underscores.\n",
    "df.columns = df.columns.str.lower().str.replace(\"-\", \"\")\n",
    "df.columns"
   ]
  },
  {
   "cell_type": "code",
   "execution_count": 10,
   "id": "6268e41b",
   "metadata": {},
   "outputs": [
    {
     "data": {
      "text/plain": [
       "Index(['laptop_id', 'company', 'product', 'laptop_type', 'inches',\n",
       "       'screenresolution', 'device_processor (CPU)', 'device_memory (RAM)',\n",
       "       'memory_capacity', 'gpu', 'operating_system', 'weight', 'price_euros'],\n",
       "      dtype='object')"
      ]
     },
     "execution_count": 10,
     "metadata": {},
     "output_type": "execute_result"
    }
   ],
   "source": [
    "# Correct column abbreviated column names.\n",
    "df.rename(columns={\"cpu\": \"device_processor (CPU)\", \"ram\": \"device_memory (RAM)\", \"opsys\" : \"operating_system\", \"typename\": \"laptop_type\", \"memory\": \"memory_capacity\"}, inplace=True)\n",
    "df.columns"
   ]
  },
  {
   "cell_type": "code",
   "execution_count": 11,
   "id": "e808c3cc",
   "metadata": {},
   "outputs": [
    {
     "data": {
      "text/plain": [
       "Index(['laptop_id', 'manufacturers_info', 'product', 'laptop_type', 'inches',\n",
       "       'screen_resolution', 'device_processor (CPU)', 'device_memory (RAM)',\n",
       "       'memory_capacity', 'gpu', 'operating_system', 'weight', 'price_euros'],\n",
       "      dtype='object')"
      ]
     },
     "execution_count": 11,
     "metadata": {},
     "output_type": "execute_result"
    }
   ],
   "source": [
    "# Correct screen resolution column name.\n",
    "df.rename(columns={\"screenresolution\": \"screen_resolution\", \"company\" : \"manufacturers_info\"}, inplace=True)\n",
    "df.columns"
   ]
  },
  {
   "cell_type": "code",
   "execution_count": 12,
   "id": "d3c79c60",
   "metadata": {},
   "outputs": [
    {
     "data": {
      "application/vnd.microsoft.datawrangler.viewer.v0+json": {
       "columns": [
        {
         "name": "index",
         "rawType": "int64",
         "type": "integer"
        },
        {
         "name": "0",
         "rawType": "bool",
         "type": "boolean"
        }
       ],
       "ref": "ef5792a4-8b01-4bf8-b58b-e5d809be7662",
       "rows": [
        [
         "0",
         "False"
        ],
        [
         "1",
         "False"
        ],
        [
         "2",
         "False"
        ],
        [
         "3",
         "False"
        ],
        [
         "4",
         "False"
        ],
        [
         "5",
         "False"
        ],
        [
         "6",
         "False"
        ],
        [
         "7",
         "False"
        ],
        [
         "8",
         "False"
        ],
        [
         "9",
         "False"
        ],
        [
         "10",
         "False"
        ],
        [
         "11",
         "False"
        ],
        [
         "12",
         "False"
        ],
        [
         "13",
         "False"
        ],
        [
         "14",
         "False"
        ],
        [
         "15",
         "False"
        ],
        [
         "16",
         "False"
        ],
        [
         "17",
         "False"
        ],
        [
         "18",
         "False"
        ],
        [
         "19",
         "False"
        ],
        [
         "20",
         "False"
        ],
        [
         "21",
         "False"
        ],
        [
         "22",
         "False"
        ],
        [
         "23",
         "False"
        ],
        [
         "24",
         "False"
        ],
        [
         "25",
         "False"
        ],
        [
         "26",
         "False"
        ],
        [
         "27",
         "False"
        ],
        [
         "28",
         "False"
        ],
        [
         "29",
         "False"
        ],
        [
         "30",
         "False"
        ],
        [
         "31",
         "False"
        ],
        [
         "32",
         "False"
        ],
        [
         "33",
         "False"
        ],
        [
         "34",
         "False"
        ],
        [
         "35",
         "False"
        ],
        [
         "36",
         "False"
        ],
        [
         "37",
         "False"
        ],
        [
         "38",
         "False"
        ],
        [
         "39",
         "False"
        ],
        [
         "40",
         "False"
        ],
        [
         "41",
         "False"
        ],
        [
         "42",
         "False"
        ],
        [
         "43",
         "False"
        ],
        [
         "44",
         "False"
        ],
        [
         "45",
         "False"
        ],
        [
         "46",
         "False"
        ],
        [
         "47",
         "False"
        ],
        [
         "48",
         "False"
        ],
        [
         "49",
         "False"
        ]
       ],
       "shape": {
        "columns": 1,
        "rows": 1303
       }
      },
      "text/plain": [
       "0       False\n",
       "1       False\n",
       "2       False\n",
       "3       False\n",
       "4       False\n",
       "        ...  \n",
       "1298    False\n",
       "1299    False\n",
       "1300    False\n",
       "1301    False\n",
       "1302    False\n",
       "Length: 1303, dtype: bool"
      ]
     },
     "execution_count": 12,
     "metadata": {},
     "output_type": "execute_result"
    }
   ],
   "source": [
    "# Check for duplicates\n",
    "df.duplicated()"
   ]
  },
  {
   "cell_type": "code",
   "execution_count": 13,
   "id": "1210735e",
   "metadata": {},
   "outputs": [
    {
     "data": {
      "application/vnd.microsoft.datawrangler.viewer.v0+json": {
       "columns": [
        {
         "name": "index",
         "rawType": "int64",
         "type": "integer"
        },
        {
         "name": "laptop_id",
         "rawType": "int64",
         "type": "integer"
        },
        {
         "name": "manufacturers_info",
         "rawType": "object",
         "type": "string"
        },
        {
         "name": "product",
         "rawType": "object",
         "type": "string"
        },
        {
         "name": "laptop_type",
         "rawType": "object",
         "type": "string"
        },
        {
         "name": "inches",
         "rawType": "float64",
         "type": "float"
        },
        {
         "name": "screen_resolution",
         "rawType": "object",
         "type": "string"
        },
        {
         "name": "device_processor (CPU)",
         "rawType": "object",
         "type": "string"
        },
        {
         "name": "device_memory (RAM)",
         "rawType": "object",
         "type": "string"
        },
        {
         "name": "memory_capacity",
         "rawType": "object",
         "type": "string"
        },
        {
         "name": "gpu",
         "rawType": "object",
         "type": "string"
        },
        {
         "name": "operating_system",
         "rawType": "object",
         "type": "string"
        },
        {
         "name": "weight",
         "rawType": "object",
         "type": "string"
        },
        {
         "name": "price_euros",
         "rawType": "float64",
         "type": "float"
        }
       ],
       "ref": "c08f02e8-bc65-4660-929d-f13807042233",
       "rows": [
        [
         "0",
         "1",
         "Apple",
         "MacBook Pro",
         "Ultrabook",
         "13.3",
         "IPS Panel Retina Display 2560x1600",
         "Intel Core i5 2.3GHz",
         "8GB",
         "128GB SSD",
         "Intel Iris Plus Graphics 640",
         "macOS",
         "1.37kg",
         "1339.69"
        ],
        [
         "1",
         "2",
         "Apple",
         "Macbook Air",
         "Ultrabook",
         "13.3",
         "1440x900",
         "Intel Core i5 1.8GHz",
         "8GB",
         "128GB Flash Storage",
         "Intel HD Graphics 6000",
         "macOS",
         "1.34kg",
         "898.94"
        ],
        [
         "2",
         "3",
         "HP",
         "250 G6",
         "Notebook",
         "15.6",
         "Full HD 1920x1080",
         "Intel Core i5 7200U 2.5GHz",
         "8GB",
         "256GB SSD",
         "Intel HD Graphics 620",
         "Android",
         "1.86kg",
         "575.0"
        ],
        [
         "3",
         "4",
         "Apple",
         "MacBook Pro",
         "Ultrabook",
         "15.4",
         "IPS Panel Retina Display 2880x1800",
         "Intel Core i7 2.7GHz",
         "16GB",
         "512GB SSD",
         "AMD Radeon Pro 455",
         "macOS",
         "1.83kg",
         "2537.45"
        ],
        [
         "4",
         "5",
         "Apple",
         "MacBook Pro",
         "Ultrabook",
         "13.3",
         "IPS Panel Retina Display 2560x1600",
         "Intel Core i5 3.1GHz",
         "8GB",
         "256GB SSD",
         "Intel Iris Plus Graphics 650",
         "macOS",
         "1.37kg",
         "1803.6"
        ],
        [
         "5",
         "6",
         "Acer",
         "Aspire 3",
         "Notebook",
         "15.6",
         "1366x768",
         "AMD A9-Series 9420 3GHz",
         "4GB",
         "500GB HDD",
         "AMD Radeon R5",
         "Windows 10",
         "2.1kg",
         "400.0"
        ],
        [
         "6",
         "7",
         "Apple",
         "MacBook Pro",
         "Ultrabook",
         "15.4",
         "IPS Panel Retina Display 2880x1800",
         "Intel Core i7 2.2GHz",
         "16GB",
         "256GB Flash Storage",
         "Intel Iris Pro Graphics",
         "Mac OS X",
         "2.04kg",
         "2139.97"
        ],
        [
         "7",
         "8",
         "Apple",
         "Macbook Air",
         "Ultrabook",
         "13.3",
         "1440x900",
         "Intel Core i5 1.8GHz",
         "8GB",
         "256GB Flash Storage",
         "Intel HD Graphics 6000",
         "macOS",
         "1.34kg",
         "1158.7"
        ],
        [
         "8",
         "9",
         "Asus",
         "ZenBook UX430UN",
         "Ultrabook",
         "14.0",
         "Full HD 1920x1080",
         "Intel Core i7 8550U 1.8GHz",
         "16GB",
         "512GB SSD",
         "Nvidia GeForce MX150",
         "Windows 10",
         "1.3kg",
         "1495.0"
        ],
        [
         "9",
         "10",
         "Acer",
         "Swift 3",
         "Ultrabook",
         "14.0",
         "IPS Panel Full HD 1920x1080",
         "Intel Core i5 8250U 1.6GHz",
         "8GB",
         "256GB SSD",
         "Intel UHD Graphics 620",
         "Windows 10",
         "1.6kg",
         "770.0"
        ],
        [
         "10",
         "11",
         "HP",
         "250 G6",
         "Notebook",
         "15.6",
         "1366x768",
         "Intel Core i5 7200U 2.5GHz",
         "4GB",
         "500GB HDD",
         "Intel HD Graphics 620",
         "Windows 10",
         "1.86kg",
         "393.9"
        ],
        [
         "11",
         "12",
         "HP",
         "250 G6",
         "Notebook",
         "15.6",
         "Full HD 1920x1080",
         "Intel Core i3 6006U 2GHz",
         "4GB",
         "500GB HDD",
         "Intel HD Graphics 520",
         "macOS",
         "1.86kg",
         "344.99"
        ],
        [
         "12",
         "13",
         "Apple",
         "MacBook Pro",
         "Ultrabook",
         "15.4",
         "IPS Panel Retina Display 2880x1800",
         "Intel Core i7 2.8GHz",
         "16GB",
         "256GB SSD",
         "AMD Radeon Pro 555",
         "macOS",
         "1.83kg",
         "2439.97"
        ],
        [
         "13",
         "14",
         "Dell",
         "Inspiron 3567",
         "Notebook",
         "15.6",
         "Full HD 1920x1080",
         "Intel Core i3 6006U 2GHz",
         "4GB",
         "256GB SSD",
         "AMD Radeon R5 M430",
         "Windows 10",
         "2.2kg",
         "498.9"
        ],
        [
         "14",
         "15",
         "Apple",
         "MacBook 12\"",
         "Ultrabook",
         "12.0",
         "IPS Panel Retina Display 2304x1440",
         "Intel Core M m3 1.2GHz",
         "8GB",
         "256GB SSD",
         "Intel HD Graphics 615",
         "macOS",
         "0.92kg",
         "1262.4"
        ],
        [
         "15",
         "16",
         "Apple",
         "MacBook Pro",
         "Ultrabook",
         "13.3",
         "IPS Panel Retina Display 2560x1600",
         "Intel Core i5 2.3GHz",
         "8GB",
         "256GB SSD",
         "Intel Iris Plus Graphics 640",
         "macOS",
         "1.37kg",
         "1518.55"
        ],
        [
         "16",
         "17",
         "Dell",
         "Inspiron 3567",
         "Notebook",
         "15.6",
         "Full HD 1920x1080",
         "Intel Core i7 7500U 2.7GHz",
         "8GB",
         "256GB SSD",
         "AMD Radeon R5 M430",
         "Windows 10",
         "2.2kg",
         "745.0"
        ],
        [
         "17",
         "18",
         "Apple",
         "MacBook Pro",
         "Ultrabook",
         "15.4",
         "IPS Panel Retina Display 2880x1800",
         "Intel Core i7 2.9GHz",
         "16GB",
         "512GB SSD",
         "AMD Radeon Pro 560",
         "macOS",
         "1.83kg",
         "2858.0"
        ],
        [
         "18",
         "19",
         "Lenovo",
         "IdeaPad 320-15IKB",
         "Notebook",
         "15.6",
         "Full HD 1920x1080",
         "Intel Core i3 7100U 2.4GHz",
         "8GB",
         "1TB HDD",
         "Nvidia GeForce 940MX",
         "Mac OS X",
         "2.2kg",
         "499.0"
        ],
        [
         "19",
         "20",
         "Dell",
         "XPS 13",
         "Ultrabook",
         "13.3",
         "IPS Panel Full HD / Touchscreen 1920x1080",
         "Intel Core i5 8250U 1.6GHz",
         "8GB",
         "128GB SSD",
         "Intel UHD Graphics 620",
         "Windows 10",
         "1.22kg",
         "979.0"
        ],
        [
         "20",
         "21",
         "Asus",
         "Vivobook E200HA",
         "Netbook",
         "11.6",
         "1366x768",
         "Intel Atom x5-Z8350 1.44GHz",
         "2GB",
         "32GB Flash Storage",
         "Intel HD Graphics 400",
         "Windows 10",
         "0.98kg",
         "191.9"
        ],
        [
         "21",
         "22",
         "Lenovo",
         "Legion Y520-15IKBN",
         "Gaming",
         "15.6",
         "IPS Panel Full HD 1920x1080",
         "Intel Core i5 7300HQ 2.5GHz",
         "8GB",
         "128GB SSD +  1TB HDD",
         "Nvidia GeForce GTX 1050",
         "Windows 10",
         "2.5kg",
         "999.0"
        ],
        [
         "22",
         "23",
         "HP",
         "255 G6",
         "Notebook",
         "15.6",
         "1366x768",
         "AMD E-Series E2-9000e 1.5GHz",
         "4GB",
         "500GB HDD",
         "AMD Radeon R2",
         "Windows 10 S",
         "1.86kg",
         "258.0"
        ],
        [
         "23",
         "24",
         "Dell",
         "Inspiron 5379",
         "2 in 1 Convertible",
         "13.3",
         "Full HD / Touchscreen 1920x1080",
         "Intel Core i5 8250U 1.6GHz",
         "8GB",
         "256GB SSD",
         "Intel UHD Graphics 620",
         "Windows 10",
         "1.62kg",
         "819.0"
        ],
        [
         "24",
         "25",
         "HP",
         "15-BS101nv (i7-8550U/8GB/256GB/FHD/W10)",
         "Ultrabook",
         "15.6",
         "Full HD 1920x1080",
         "Intel Core i7 8550U 1.8GHz",
         "8GB",
         "256GB SSD",
         "Intel HD Graphics 620",
         "Windows 10",
         "1.91kg",
         "659.0"
        ],
        [
         "25",
         "26",
         "Dell",
         "Inspiron 3567",
         "Notebook",
         "15.6",
         "1366x768",
         "Intel Core i3 6006U 2GHz",
         "4GB",
         "1TB HDD",
         "Intel HD Graphics 520",
         "Windows 10",
         "2.3kg",
         "418.64"
        ],
        [
         "26",
         "27",
         "Apple",
         "MacBook Air",
         "Ultrabook",
         "13.3",
         "1440x900",
         "Intel Core i5 1.6GHz",
         "8GB",
         "128GB Flash Storage",
         "Intel HD Graphics 6000",
         "Mac OS X",
         "1.35kg",
         "1099.0"
        ],
        [
         "27",
         "28",
         "Dell",
         "Inspiron 5570",
         "Notebook",
         "15.6",
         "Full HD 1920x1080",
         "Intel Core i5 8250U 1.6GHz",
         "8GB",
         "256GB SSD",
         "AMD Radeon 530",
         "Windows 10",
         "2.2kg",
         "800.0"
        ],
        [
         "28",
         "29",
         "Dell",
         "Latitude 5590",
         "Ultrabook",
         "15.6",
         "Full HD 1920x1080",
         "Intel Core i7 8650U 1.9GHz",
         "8GB",
         "256GB SSD +  256GB SSD",
         "Intel UHD Graphics 620",
         "Windows 10",
         "1.88kg",
         "1298.0"
        ],
        [
         "29",
         "30",
         "HP",
         "ProBook 470",
         "Notebook",
         "17.3",
         "Full HD 1920x1080",
         "Intel Core i5 8250U 1.6GHz",
         "8GB",
         "1TB HDD",
         "Nvidia GeForce 930MX",
         "Windows 10",
         "2.5kg",
         "896.0"
        ],
        [
         "30",
         "31",
         "Chuwi",
         "LapBook 15.6\"",
         "Notebook",
         "15.6",
         "Full HD 1920x1080",
         "Intel Atom x5-Z8300 1.44GHz",
         "4GB",
         "64GB Flash Storage",
         "Intel HD Graphics",
         "Windows 10",
         "1.89kg",
         "244.99"
        ],
        [
         "31",
         "32",
         "Asus",
         "E402WA-GA010T (E2-6110/2GB/32GB/W10)",
         "Notebook",
         "14.0",
         "1366x768",
         "AMD E-Series E2-6110 1.5GHz",
         "2GB",
         "32GB Flash Storage",
         "AMD Radeon R2",
         "Windows 10",
         "1.65kg",
         "199.0"
        ],
        [
         "32",
         "33",
         "HP",
         "17-ak001nv (A6-9220/4GB/500GB/Radeon",
         "Notebook",
         "17.3",
         "Full HD 1920x1080",
         "AMD A6-Series 9220 2.5GHz",
         "4GB",
         "500GB HDD",
         "AMD Radeon 530",
         "Windows 10",
         "2.71kg",
         "439.0"
        ],
        [
         "33",
         "34",
         "Dell",
         "XPS 13",
         "Ultrabook",
         "13.3",
         "Touchscreen / Quad HD+ 3200x1800",
         "Intel Core i7 8550U 1.8GHz",
         "16GB",
         "512GB SSD",
         "Intel UHD Graphics 620",
         "Windows 10",
         "1.2kg",
         "1869.0"
        ],
        [
         "34",
         "35",
         "Apple",
         "MacBook Air",
         "Ultrabook",
         "13.3",
         "1440x900",
         "Intel Core i5 1.6GHz",
         "8GB",
         "256GB Flash Storage",
         "Intel HD Graphics 6000",
         "Mac OS X",
         "1.35kg",
         "998.0"
        ],
        [
         "35",
         "36",
         "Lenovo",
         "IdeaPad 120S-14IAP",
         "Notebook",
         "14.0",
         "1366x768",
         "Intel Celeron Dual Core N3350 1.1GHz",
         "4GB",
         "64GB Flash Storage",
         "Intel HD Graphics 500",
         "Windows 10",
         "1.44kg",
         "249.0"
        ],
        [
         "36",
         "37",
         "Acer",
         "Aspire 3",
         "Notebook",
         "15.6",
         "1366x768",
         "Intel Core i3 7130U 2.7GHz",
         "4GB",
         "1TB HDD",
         "Intel HD Graphics 620",
         "Linux",
         "2.1kg",
         "367.0"
        ],
        [
         "37",
         "38",
         "Dell",
         "Inspiron 5770",
         "Notebook",
         "17.3",
         "IPS Panel Full HD 1920x1080",
         "Intel Core i5 8250U 1.6GHz",
         "8GB",
         "128GB SSD +  1TB HDD",
         "AMD Radeon 530",
         "Windows 10",
         "2.8kg",
         "979.0"
        ],
        [
         "38",
         "39",
         "HP",
         "250 G6",
         "Notebook",
         "15.6",
         "1366x768",
         "Intel Core i5 7200U 2.5GHz",
         "4GB",
         "1TB HDD",
         "Intel HD Graphics 620",
         "Windows 10",
         "1.86kg",
         "488.69"
        ],
        [
         "39",
         "40",
         "HP",
         "ProBook 450",
         "Notebook",
         "15.6",
         "Full HD 1920x1080",
         "Intel Core i5 8250U 1.6GHz",
         "8GB",
         "256GB SSD",
         "Nvidia GeForce 930MX ",
         "Windows 10",
         "2.1kg",
         "879.0"
        ],
        [
         "40",
         "41",
         "Asus",
         "X540UA-DM186 (i3-6006U/4GB/1TB/FHD/Linux)",
         "Notebook",
         "15.6",
         "Full HD 1920x1080",
         "Intel Core i3 6006U 2GHz",
         "4GB",
         "1TB HDD",
         "Intel HD Graphics 620",
         "Linux",
         "2kg",
         "389.0"
        ],
        [
         "41",
         "42",
         "Dell",
         "Inspiron 7577",
         "Gaming",
         "15.6",
         "IPS Panel Full HD 1920x1080",
         "Intel Core i7 7700HQ 2.8GHz",
         "16GB",
         "256GB SSD +  1TB HDD",
         "Nvidia GeForce GTX 1060",
         "Windows 10",
         "2.65kg",
         "1499.0"
        ],
        [
         "42",
         "43",
         "Asus",
         "X542UQ-GO005 (i5-7200U/8GB/1TB/GeForce",
         "Notebook",
         "15.6",
         "1366x768",
         "Intel Core i5 7200U 2.5GHz",
         "8GB",
         "1TB HDD",
         "Nvidia GeForce 940MX",
         "Linux",
         "2.3kg",
         "522.99"
        ],
        [
         "43",
         "44",
         "Acer",
         "Aspire A515-51G",
         "Notebook",
         "15.6",
         "IPS Panel Full HD 1920x1080",
         "Intel Core i5 8250U 1.6GHz",
         "4GB",
         "256GB SSD",
         "Intel UHD Graphics 620",
         "Windows 10",
         "2.2kg",
         "682.0"
        ],
        [
         "44",
         "45",
         "Dell",
         "Inspiron 7773",
         "2 in 1 Convertible",
         "17.3",
         "Full HD / Touchscreen 1920x1080",
         "Intel Core i5 8250U 1.6GHz",
         "12GB",
         "1TB HDD",
         "Nvidia GeForce 150MX",
         "Windows 10",
         "2.77kg",
         "999.0"
        ],
        [
         "45",
         "46",
         "Apple",
         "MacBook Pro",
         "Ultrabook",
         "13.3",
         "IPS Panel Retina Display 2560x1600",
         "Intel Core i5 2.0GHz",
         "8GB",
         "256GB SSD",
         "Intel Iris Graphics 540",
         "macOS",
         "1.37kg",
         "1419.0"
        ],
        [
         "46",
         "47",
         "Lenovo",
         "IdeaPad 320-15ISK",
         "Notebook",
         "15.6",
         "1366x768",
         "Intel Core i3 6006U 2GHz",
         "4GB",
         "128GB SSD",
         "Intel HD Graphics 520",
         "Android",
         "2.2kg",
         "369.0"
        ],
        [
         "47",
         "48",
         "Asus",
         "Rog Strix",
         "Gaming",
         "17.3",
         "Full HD 1920x1080",
         "AMD Ryzen 1700 3GHz",
         "8GB",
         "256GB SSD +  1TB HDD",
         "AMD Radeon RX 580",
         "Windows 10",
         "3.2kg",
         "1299.0"
        ],
        [
         "48",
         "49",
         "Dell",
         "Inspiron 3567",
         "Notebook",
         "15.6",
         "Full HD 1920x1080",
         "Intel Core i5 7200U 2.5GHz",
         "4GB",
         "256GB SSD",
         "AMD Radeon R5 M430",
         "Windows 10",
         "2.3kg",
         "639.0"
        ],
        [
         "49",
         "50",
         "Asus",
         "X751NV-TY001T (N4200/4GB/1TB/GeForce",
         "Notebook",
         "17.3",
         "1366x768",
         "Intel Pentium Quad Core N4200 1.1GHz",
         "4GB",
         "1TB HDD",
         "Nvidia GeForce 920MX",
         "Windows 10",
         "2.8kg",
         "466.0"
        ]
       ],
       "shape": {
        "columns": 13,
        "rows": 1303
       }
      },
      "text/html": [
       "<div>\n",
       "<style scoped>\n",
       "    .dataframe tbody tr th:only-of-type {\n",
       "        vertical-align: middle;\n",
       "    }\n",
       "\n",
       "    .dataframe tbody tr th {\n",
       "        vertical-align: top;\n",
       "    }\n",
       "\n",
       "    .dataframe thead th {\n",
       "        text-align: right;\n",
       "    }\n",
       "</style>\n",
       "<table border=\"1\" class=\"dataframe\">\n",
       "  <thead>\n",
       "    <tr style=\"text-align: right;\">\n",
       "      <th></th>\n",
       "      <th>laptop_id</th>\n",
       "      <th>manufacturers_info</th>\n",
       "      <th>product</th>\n",
       "      <th>laptop_type</th>\n",
       "      <th>inches</th>\n",
       "      <th>screen_resolution</th>\n",
       "      <th>device_processor (CPU)</th>\n",
       "      <th>device_memory (RAM)</th>\n",
       "      <th>memory_capacity</th>\n",
       "      <th>gpu</th>\n",
       "      <th>operating_system</th>\n",
       "      <th>weight</th>\n",
       "      <th>price_euros</th>\n",
       "    </tr>\n",
       "  </thead>\n",
       "  <tbody>\n",
       "    <tr>\n",
       "      <th>0</th>\n",
       "      <td>1</td>\n",
       "      <td>Apple</td>\n",
       "      <td>MacBook Pro</td>\n",
       "      <td>Ultrabook</td>\n",
       "      <td>13.3</td>\n",
       "      <td>IPS Panel Retina Display 2560x1600</td>\n",
       "      <td>Intel Core i5 2.3GHz</td>\n",
       "      <td>8GB</td>\n",
       "      <td>128GB SSD</td>\n",
       "      <td>Intel Iris Plus Graphics 640</td>\n",
       "      <td>macOS</td>\n",
       "      <td>1.37kg</td>\n",
       "      <td>1339.69</td>\n",
       "    </tr>\n",
       "    <tr>\n",
       "      <th>1</th>\n",
       "      <td>2</td>\n",
       "      <td>Apple</td>\n",
       "      <td>Macbook Air</td>\n",
       "      <td>Ultrabook</td>\n",
       "      <td>13.3</td>\n",
       "      <td>1440x900</td>\n",
       "      <td>Intel Core i5 1.8GHz</td>\n",
       "      <td>8GB</td>\n",
       "      <td>128GB Flash Storage</td>\n",
       "      <td>Intel HD Graphics 6000</td>\n",
       "      <td>macOS</td>\n",
       "      <td>1.34kg</td>\n",
       "      <td>898.94</td>\n",
       "    </tr>\n",
       "    <tr>\n",
       "      <th>2</th>\n",
       "      <td>3</td>\n",
       "      <td>HP</td>\n",
       "      <td>250 G6</td>\n",
       "      <td>Notebook</td>\n",
       "      <td>15.6</td>\n",
       "      <td>Full HD 1920x1080</td>\n",
       "      <td>Intel Core i5 7200U 2.5GHz</td>\n",
       "      <td>8GB</td>\n",
       "      <td>256GB SSD</td>\n",
       "      <td>Intel HD Graphics 620</td>\n",
       "      <td>Android</td>\n",
       "      <td>1.86kg</td>\n",
       "      <td>575.00</td>\n",
       "    </tr>\n",
       "    <tr>\n",
       "      <th>3</th>\n",
       "      <td>4</td>\n",
       "      <td>Apple</td>\n",
       "      <td>MacBook Pro</td>\n",
       "      <td>Ultrabook</td>\n",
       "      <td>15.4</td>\n",
       "      <td>IPS Panel Retina Display 2880x1800</td>\n",
       "      <td>Intel Core i7 2.7GHz</td>\n",
       "      <td>16GB</td>\n",
       "      <td>512GB SSD</td>\n",
       "      <td>AMD Radeon Pro 455</td>\n",
       "      <td>macOS</td>\n",
       "      <td>1.83kg</td>\n",
       "      <td>2537.45</td>\n",
       "    </tr>\n",
       "    <tr>\n",
       "      <th>4</th>\n",
       "      <td>5</td>\n",
       "      <td>Apple</td>\n",
       "      <td>MacBook Pro</td>\n",
       "      <td>Ultrabook</td>\n",
       "      <td>13.3</td>\n",
       "      <td>IPS Panel Retina Display 2560x1600</td>\n",
       "      <td>Intel Core i5 3.1GHz</td>\n",
       "      <td>8GB</td>\n",
       "      <td>256GB SSD</td>\n",
       "      <td>Intel Iris Plus Graphics 650</td>\n",
       "      <td>macOS</td>\n",
       "      <td>1.37kg</td>\n",
       "      <td>1803.60</td>\n",
       "    </tr>\n",
       "    <tr>\n",
       "      <th>...</th>\n",
       "      <td>...</td>\n",
       "      <td>...</td>\n",
       "      <td>...</td>\n",
       "      <td>...</td>\n",
       "      <td>...</td>\n",
       "      <td>...</td>\n",
       "      <td>...</td>\n",
       "      <td>...</td>\n",
       "      <td>...</td>\n",
       "      <td>...</td>\n",
       "      <td>...</td>\n",
       "      <td>...</td>\n",
       "      <td>...</td>\n",
       "    </tr>\n",
       "    <tr>\n",
       "      <th>1298</th>\n",
       "      <td>1316</td>\n",
       "      <td>Lenovo</td>\n",
       "      <td>Yoga 500-14ISK</td>\n",
       "      <td>2 in 1 Convertible</td>\n",
       "      <td>14.0</td>\n",
       "      <td>IPS Panel Full HD / Touchscreen 1920x1080</td>\n",
       "      <td>Intel Core i7 6500U 2.5GHz</td>\n",
       "      <td>4GB</td>\n",
       "      <td>128GB SSD</td>\n",
       "      <td>Intel HD Graphics 520</td>\n",
       "      <td>Windows 10</td>\n",
       "      <td>1.8kg</td>\n",
       "      <td>638.00</td>\n",
       "    </tr>\n",
       "    <tr>\n",
       "      <th>1299</th>\n",
       "      <td>1317</td>\n",
       "      <td>Lenovo</td>\n",
       "      <td>Yoga 900-13ISK</td>\n",
       "      <td>2 in 1 Convertible</td>\n",
       "      <td>13.3</td>\n",
       "      <td>IPS Panel Quad HD+ / Touchscreen 3200x1800</td>\n",
       "      <td>Intel Core i7 6500U 2.5GHz</td>\n",
       "      <td>16GB</td>\n",
       "      <td>512GB SSD</td>\n",
       "      <td>Intel HD Graphics 520</td>\n",
       "      <td>Windows 10</td>\n",
       "      <td>1.3kg</td>\n",
       "      <td>1499.00</td>\n",
       "    </tr>\n",
       "    <tr>\n",
       "      <th>1300</th>\n",
       "      <td>1318</td>\n",
       "      <td>Lenovo</td>\n",
       "      <td>IdeaPad 100S-14IBR</td>\n",
       "      <td>Notebook</td>\n",
       "      <td>14.0</td>\n",
       "      <td>1366x768</td>\n",
       "      <td>Intel Celeron Dual Core N3050 1.6GHz</td>\n",
       "      <td>2GB</td>\n",
       "      <td>64GB Flash Storage</td>\n",
       "      <td>Intel HD Graphics</td>\n",
       "      <td>Windows 10</td>\n",
       "      <td>1.5kg</td>\n",
       "      <td>229.00</td>\n",
       "    </tr>\n",
       "    <tr>\n",
       "      <th>1301</th>\n",
       "      <td>1319</td>\n",
       "      <td>HP</td>\n",
       "      <td>15-AC110nv (i7-6500U/6GB/1TB/Radeon</td>\n",
       "      <td>Notebook</td>\n",
       "      <td>15.6</td>\n",
       "      <td>1366x768</td>\n",
       "      <td>Intel Core i7 6500U 2.5GHz</td>\n",
       "      <td>6GB</td>\n",
       "      <td>1TB HDD</td>\n",
       "      <td>AMD Radeon R5 M330</td>\n",
       "      <td>Windows 10</td>\n",
       "      <td>2.19kg</td>\n",
       "      <td>764.00</td>\n",
       "    </tr>\n",
       "    <tr>\n",
       "      <th>1302</th>\n",
       "      <td>1320</td>\n",
       "      <td>Asus</td>\n",
       "      <td>X553SA-XX031T (N3050/4GB/500GB/W10)</td>\n",
       "      <td>Notebook</td>\n",
       "      <td>15.6</td>\n",
       "      <td>1366x768</td>\n",
       "      <td>Intel Celeron Dual Core N3050 1.6GHz</td>\n",
       "      <td>4GB</td>\n",
       "      <td>500GB HDD</td>\n",
       "      <td>Intel HD Graphics</td>\n",
       "      <td>Windows 10</td>\n",
       "      <td>2.2kg</td>\n",
       "      <td>369.00</td>\n",
       "    </tr>\n",
       "  </tbody>\n",
       "</table>\n",
       "<p>1303 rows × 13 columns</p>\n",
       "</div>"
      ],
      "text/plain": [
       "      laptop_id manufacturers_info                              product  \\\n",
       "0             1              Apple                          MacBook Pro   \n",
       "1             2              Apple                          Macbook Air   \n",
       "2             3                 HP                               250 G6   \n",
       "3             4              Apple                          MacBook Pro   \n",
       "4             5              Apple                          MacBook Pro   \n",
       "...         ...                ...                                  ...   \n",
       "1298       1316             Lenovo                       Yoga 500-14ISK   \n",
       "1299       1317             Lenovo                       Yoga 900-13ISK   \n",
       "1300       1318             Lenovo                   IdeaPad 100S-14IBR   \n",
       "1301       1319                 HP  15-AC110nv (i7-6500U/6GB/1TB/Radeon   \n",
       "1302       1320               Asus  X553SA-XX031T (N3050/4GB/500GB/W10)   \n",
       "\n",
       "             laptop_type  inches                           screen_resolution  \\\n",
       "0              Ultrabook    13.3          IPS Panel Retina Display 2560x1600   \n",
       "1              Ultrabook    13.3                                    1440x900   \n",
       "2               Notebook    15.6                           Full HD 1920x1080   \n",
       "3              Ultrabook    15.4          IPS Panel Retina Display 2880x1800   \n",
       "4              Ultrabook    13.3          IPS Panel Retina Display 2560x1600   \n",
       "...                  ...     ...                                         ...   \n",
       "1298  2 in 1 Convertible    14.0   IPS Panel Full HD / Touchscreen 1920x1080   \n",
       "1299  2 in 1 Convertible    13.3  IPS Panel Quad HD+ / Touchscreen 3200x1800   \n",
       "1300            Notebook    14.0                                    1366x768   \n",
       "1301            Notebook    15.6                                    1366x768   \n",
       "1302            Notebook    15.6                                    1366x768   \n",
       "\n",
       "                    device_processor (CPU) device_memory (RAM)  \\\n",
       "0                     Intel Core i5 2.3GHz                 8GB   \n",
       "1                     Intel Core i5 1.8GHz                 8GB   \n",
       "2               Intel Core i5 7200U 2.5GHz                 8GB   \n",
       "3                     Intel Core i7 2.7GHz                16GB   \n",
       "4                     Intel Core i5 3.1GHz                 8GB   \n",
       "...                                    ...                 ...   \n",
       "1298            Intel Core i7 6500U 2.5GHz                 4GB   \n",
       "1299            Intel Core i7 6500U 2.5GHz                16GB   \n",
       "1300  Intel Celeron Dual Core N3050 1.6GHz                 2GB   \n",
       "1301            Intel Core i7 6500U 2.5GHz                 6GB   \n",
       "1302  Intel Celeron Dual Core N3050 1.6GHz                 4GB   \n",
       "\n",
       "          memory_capacity                           gpu operating_system  \\\n",
       "0               128GB SSD  Intel Iris Plus Graphics 640            macOS   \n",
       "1     128GB Flash Storage        Intel HD Graphics 6000            macOS   \n",
       "2               256GB SSD         Intel HD Graphics 620          Android   \n",
       "3               512GB SSD            AMD Radeon Pro 455            macOS   \n",
       "4               256GB SSD  Intel Iris Plus Graphics 650            macOS   \n",
       "...                   ...                           ...              ...   \n",
       "1298            128GB SSD         Intel HD Graphics 520       Windows 10   \n",
       "1299            512GB SSD         Intel HD Graphics 520       Windows 10   \n",
       "1300   64GB Flash Storage             Intel HD Graphics       Windows 10   \n",
       "1301              1TB HDD            AMD Radeon R5 M330       Windows 10   \n",
       "1302            500GB HDD             Intel HD Graphics       Windows 10   \n",
       "\n",
       "      weight  price_euros  \n",
       "0     1.37kg      1339.69  \n",
       "1     1.34kg       898.94  \n",
       "2     1.86kg       575.00  \n",
       "3     1.83kg      2537.45  \n",
       "4     1.37kg      1803.60  \n",
       "...      ...          ...  \n",
       "1298   1.8kg       638.00  \n",
       "1299   1.3kg      1499.00  \n",
       "1300   1.5kg       229.00  \n",
       "1301  2.19kg       764.00  \n",
       "1302   2.2kg       369.00  \n",
       "\n",
       "[1303 rows x 13 columns]"
      ]
     },
     "execution_count": 13,
     "metadata": {},
     "output_type": "execute_result"
    }
   ],
   "source": [
    "# Fill all inconsistencies in operating system.\n",
    "# Get unique valid operating systems (excluding \"No OS\")\n",
    "valid_os = df.loc[df[\"operating_system\"] != \"No OS\", \"operating_system\"].unique()\n",
    "\n",
    "# Replace No operating system with random operating system.\n",
    "df.loc[df[\"operating_system\"] == \"No OS\", \"operating_system\"] = np.random.choice(valid_os, size=(df[\"operating_system\"] == \"No OS\").sum())\n",
    "df"
   ]
  },
  {
   "cell_type": "code",
   "execution_count": 15,
   "id": "3e082006",
   "metadata": {},
   "outputs": [
    {
     "data": {
      "application/vnd.microsoft.datawrangler.viewer.v0+json": {
       "columns": [
        {
         "name": "index",
         "rawType": "int64",
         "type": "integer"
        },
        {
         "name": "laptop_id",
         "rawType": "int64",
         "type": "integer"
        },
        {
         "name": "manufacturers_info",
         "rawType": "object",
         "type": "string"
        },
        {
         "name": "product",
         "rawType": "object",
         "type": "string"
        },
        {
         "name": "laptop_type",
         "rawType": "object",
         "type": "string"
        },
        {
         "name": "inches",
         "rawType": "float64",
         "type": "float"
        },
        {
         "name": "screen_resolution",
         "rawType": "object",
         "type": "string"
        },
        {
         "name": "device_processor (CPU)",
         "rawType": "object",
         "type": "string"
        },
        {
         "name": "device_memory (RAM)",
         "rawType": "object",
         "type": "string"
        },
        {
         "name": "memory_capacity",
         "rawType": "object",
         "type": "string"
        },
        {
         "name": "gpu",
         "rawType": "object",
         "type": "string"
        },
        {
         "name": "operating_system",
         "rawType": "object",
         "type": "string"
        },
        {
         "name": "weight",
         "rawType": "object",
         "type": "string"
        },
        {
         "name": "price_euros",
         "rawType": "float64",
         "type": "float"
        }
       ],
       "ref": "87eda40e-c1ba-4cb3-9a3f-8aec15625675",
       "rows": [
        [
         "0",
         "1",
         "Apple",
         "MacBook Pro",
         "Ultrabook",
         "13.3",
         "IPS Panel Retina Display 2560x1600",
         "Intel Core i5 2.3GHz",
         "8GB",
         "128GB SSD",
         "Intel Iris Plus Graphics 640",
         "macOS",
         "1.37kg",
         "1339.69"
        ],
        [
         "1",
         "2",
         "Apple",
         "Macbook Air",
         "Ultrabook",
         "13.3",
         "1440x900",
         "Intel Core i5 1.8GHz",
         "8GB",
         "128GB Flash Storage",
         "Intel HD Graphics 6000",
         "macOS",
         "1.34kg",
         "898.94"
        ],
        [
         "2",
         "3",
         "HP",
         "250 G6",
         "Notebook",
         "15.6",
         "Full HD 1920x1080",
         "Intel Core i5 7200U 2.5GHz",
         "8GB",
         "256GB SSD",
         "Intel HD Graphics 620",
         "Android",
         "1.86kg",
         "575.0"
        ],
        [
         "3",
         "4",
         "Apple",
         "MacBook Pro",
         "Ultrabook",
         "15.4",
         "IPS Panel Retina Display 2880x1800",
         "Intel Core i7 2.7GHz",
         "16GB",
         "512GB SSD",
         "AMD Radeon Pro 455",
         "macOS",
         "1.83kg",
         "2537.45"
        ],
        [
         "4",
         "5",
         "Apple",
         "MacBook Pro",
         "Ultrabook",
         "13.3",
         "IPS Panel Retina Display 2560x1600",
         "Intel Core i5 3.1GHz",
         "8GB",
         "256GB SSD",
         "Intel Iris Plus Graphics 650",
         "macOS",
         "1.37kg",
         "1803.6"
        ],
        [
         "5",
         "6",
         "Acer",
         "Aspire 3",
         "Notebook",
         "15.6",
         "1366x768",
         "AMD A9-Series 9420 3GHz",
         "4GB",
         "500GB HDD",
         "AMD Radeon R5",
         "Windows 10",
         "2.1kg",
         "400.0"
        ],
        [
         "6",
         "7",
         "Apple",
         "MacBook Pro",
         "Ultrabook",
         "15.4",
         "IPS Panel Retina Display 2880x1800",
         "Intel Core i7 2.2GHz",
         "16GB",
         "256GB Flash Storage",
         "Intel Iris Pro Graphics",
         "MacOS",
         "2.04kg",
         "2139.97"
        ],
        [
         "7",
         "8",
         "Apple",
         "Macbook Air",
         "Ultrabook",
         "13.3",
         "1440x900",
         "Intel Core i5 1.8GHz",
         "8GB",
         "256GB Flash Storage",
         "Intel HD Graphics 6000",
         "macOS",
         "1.34kg",
         "1158.7"
        ],
        [
         "8",
         "9",
         "Asus",
         "ZenBook UX430UN",
         "Ultrabook",
         "14.0",
         "Full HD 1920x1080",
         "Intel Core i7 8550U 1.8GHz",
         "16GB",
         "512GB SSD",
         "Nvidia GeForce MX150",
         "Windows 10",
         "1.3kg",
         "1495.0"
        ],
        [
         "9",
         "10",
         "Acer",
         "Swift 3",
         "Ultrabook",
         "14.0",
         "IPS Panel Full HD 1920x1080",
         "Intel Core i5 8250U 1.6GHz",
         "8GB",
         "256GB SSD",
         "Intel UHD Graphics 620",
         "Windows 10",
         "1.6kg",
         "770.0"
        ],
        [
         "10",
         "11",
         "HP",
         "250 G6",
         "Notebook",
         "15.6",
         "1366x768",
         "Intel Core i5 7200U 2.5GHz",
         "4GB",
         "500GB HDD",
         "Intel HD Graphics 620",
         "Windows 10",
         "1.86kg",
         "393.9"
        ],
        [
         "11",
         "12",
         "HP",
         "250 G6",
         "Notebook",
         "15.6",
         "Full HD 1920x1080",
         "Intel Core i3 6006U 2GHz",
         "4GB",
         "500GB HDD",
         "Intel HD Graphics 520",
         "macOS",
         "1.86kg",
         "344.99"
        ],
        [
         "12",
         "13",
         "Apple",
         "MacBook Pro",
         "Ultrabook",
         "15.4",
         "IPS Panel Retina Display 2880x1800",
         "Intel Core i7 2.8GHz",
         "16GB",
         "256GB SSD",
         "AMD Radeon Pro 555",
         "macOS",
         "1.83kg",
         "2439.97"
        ],
        [
         "13",
         "14",
         "Dell",
         "Inspiron 3567",
         "Notebook",
         "15.6",
         "Full HD 1920x1080",
         "Intel Core i3 6006U 2GHz",
         "4GB",
         "256GB SSD",
         "AMD Radeon R5 M430",
         "Windows 10",
         "2.2kg",
         "498.9"
        ],
        [
         "14",
         "15",
         "Apple",
         "MacBook 12\"",
         "Ultrabook",
         "12.0",
         "IPS Panel Retina Display 2304x1440",
         "Intel Core M m3 1.2GHz",
         "8GB",
         "256GB SSD",
         "Intel HD Graphics 615",
         "macOS",
         "0.92kg",
         "1262.4"
        ],
        [
         "15",
         "16",
         "Apple",
         "MacBook Pro",
         "Ultrabook",
         "13.3",
         "IPS Panel Retina Display 2560x1600",
         "Intel Core i5 2.3GHz",
         "8GB",
         "256GB SSD",
         "Intel Iris Plus Graphics 640",
         "macOS",
         "1.37kg",
         "1518.55"
        ],
        [
         "16",
         "17",
         "Dell",
         "Inspiron 3567",
         "Notebook",
         "15.6",
         "Full HD 1920x1080",
         "Intel Core i7 7500U 2.7GHz",
         "8GB",
         "256GB SSD",
         "AMD Radeon R5 M430",
         "Windows 10",
         "2.2kg",
         "745.0"
        ],
        [
         "17",
         "18",
         "Apple",
         "MacBook Pro",
         "Ultrabook",
         "15.4",
         "IPS Panel Retina Display 2880x1800",
         "Intel Core i7 2.9GHz",
         "16GB",
         "512GB SSD",
         "AMD Radeon Pro 560",
         "macOS",
         "1.83kg",
         "2858.0"
        ],
        [
         "18",
         "19",
         "Lenovo",
         "IdeaPad 320-15IKB",
         "Notebook",
         "15.6",
         "Full HD 1920x1080",
         "Intel Core i3 7100U 2.4GHz",
         "8GB",
         "1TB HDD",
         "Nvidia GeForce 940MX",
         "MacOS",
         "2.2kg",
         "499.0"
        ],
        [
         "19",
         "20",
         "Dell",
         "XPS 13",
         "Ultrabook",
         "13.3",
         "IPS Panel Full HD / Touchscreen 1920x1080",
         "Intel Core i5 8250U 1.6GHz",
         "8GB",
         "128GB SSD",
         "Intel UHD Graphics 620",
         "Windows 10",
         "1.22kg",
         "979.0"
        ],
        [
         "20",
         "21",
         "Asus",
         "Vivobook E200HA",
         "Netbook",
         "11.6",
         "1366x768",
         "Intel Atom x5-Z8350 1.44GHz",
         "2GB",
         "32GB Flash Storage",
         "Intel HD Graphics 400",
         "Windows 10",
         "0.98kg",
         "191.9"
        ],
        [
         "21",
         "22",
         "Lenovo",
         "Legion Y520-15IKBN",
         "Gaming",
         "15.6",
         "IPS Panel Full HD 1920x1080",
         "Intel Core i5 7300HQ 2.5GHz",
         "8GB",
         "128GB SSD +  1TB HDD",
         "Nvidia GeForce GTX 1050",
         "Windows 10",
         "2.5kg",
         "999.0"
        ],
        [
         "22",
         "23",
         "HP",
         "255 G6",
         "Notebook",
         "15.6",
         "1366x768",
         "AMD E-Series E2-9000e 1.5GHz",
         "4GB",
         "500GB HDD",
         "AMD Radeon R2",
         "Windows 10 S",
         "1.86kg",
         "258.0"
        ],
        [
         "23",
         "24",
         "Dell",
         "Inspiron 5379",
         "2 in 1 Convertible",
         "13.3",
         "Full HD / Touchscreen 1920x1080",
         "Intel Core i5 8250U 1.6GHz",
         "8GB",
         "256GB SSD",
         "Intel UHD Graphics 620",
         "Windows 10",
         "1.62kg",
         "819.0"
        ],
        [
         "24",
         "25",
         "HP",
         "15-BS101nv (i7-8550U/8GB/256GB/FHD/W10)",
         "Ultrabook",
         "15.6",
         "Full HD 1920x1080",
         "Intel Core i7 8550U 1.8GHz",
         "8GB",
         "256GB SSD",
         "Intel HD Graphics 620",
         "Windows 10",
         "1.91kg",
         "659.0"
        ],
        [
         "25",
         "26",
         "Dell",
         "Inspiron 3567",
         "Notebook",
         "15.6",
         "1366x768",
         "Intel Core i3 6006U 2GHz",
         "4GB",
         "1TB HDD",
         "Intel HD Graphics 520",
         "Windows 10",
         "2.3kg",
         "418.64"
        ],
        [
         "26",
         "27",
         "Apple",
         "MacBook Air",
         "Ultrabook",
         "13.3",
         "1440x900",
         "Intel Core i5 1.6GHz",
         "8GB",
         "128GB Flash Storage",
         "Intel HD Graphics 6000",
         "MacOS",
         "1.35kg",
         "1099.0"
        ],
        [
         "27",
         "28",
         "Dell",
         "Inspiron 5570",
         "Notebook",
         "15.6",
         "Full HD 1920x1080",
         "Intel Core i5 8250U 1.6GHz",
         "8GB",
         "256GB SSD",
         "AMD Radeon 530",
         "Windows 10",
         "2.2kg",
         "800.0"
        ],
        [
         "28",
         "29",
         "Dell",
         "Latitude 5590",
         "Ultrabook",
         "15.6",
         "Full HD 1920x1080",
         "Intel Core i7 8650U 1.9GHz",
         "8GB",
         "256GB SSD +  256GB SSD",
         "Intel UHD Graphics 620",
         "Windows 10",
         "1.88kg",
         "1298.0"
        ],
        [
         "29",
         "30",
         "HP",
         "ProBook 470",
         "Notebook",
         "17.3",
         "Full HD 1920x1080",
         "Intel Core i5 8250U 1.6GHz",
         "8GB",
         "1TB HDD",
         "Nvidia GeForce 930MX",
         "Windows 10",
         "2.5kg",
         "896.0"
        ],
        [
         "30",
         "31",
         "Chuwi",
         "LapBook 15.6\"",
         "Notebook",
         "15.6",
         "Full HD 1920x1080",
         "Intel Atom x5-Z8300 1.44GHz",
         "4GB",
         "64GB Flash Storage",
         "Intel HD Graphics",
         "Windows 10",
         "1.89kg",
         "244.99"
        ],
        [
         "31",
         "32",
         "Asus",
         "E402WA-GA010T (E2-6110/2GB/32GB/W10)",
         "Notebook",
         "14.0",
         "1366x768",
         "AMD E-Series E2-6110 1.5GHz",
         "2GB",
         "32GB Flash Storage",
         "AMD Radeon R2",
         "Windows 10",
         "1.65kg",
         "199.0"
        ],
        [
         "32",
         "33",
         "HP",
         "17-ak001nv (A6-9220/4GB/500GB/Radeon",
         "Notebook",
         "17.3",
         "Full HD 1920x1080",
         "AMD A6-Series 9220 2.5GHz",
         "4GB",
         "500GB HDD",
         "AMD Radeon 530",
         "Windows 10",
         "2.71kg",
         "439.0"
        ],
        [
         "33",
         "34",
         "Dell",
         "XPS 13",
         "Ultrabook",
         "13.3",
         "Touchscreen / Quad HD+ 3200x1800",
         "Intel Core i7 8550U 1.8GHz",
         "16GB",
         "512GB SSD",
         "Intel UHD Graphics 620",
         "Windows 10",
         "1.2kg",
         "1869.0"
        ],
        [
         "34",
         "35",
         "Apple",
         "MacBook Air",
         "Ultrabook",
         "13.3",
         "1440x900",
         "Intel Core i5 1.6GHz",
         "8GB",
         "256GB Flash Storage",
         "Intel HD Graphics 6000",
         "MacOS",
         "1.35kg",
         "998.0"
        ],
        [
         "35",
         "36",
         "Lenovo",
         "IdeaPad 120S-14IAP",
         "Notebook",
         "14.0",
         "1366x768",
         "Intel Celeron Dual Core N3350 1.1GHz",
         "4GB",
         "64GB Flash Storage",
         "Intel HD Graphics 500",
         "Windows 10",
         "1.44kg",
         "249.0"
        ],
        [
         "36",
         "37",
         "Acer",
         "Aspire 3",
         "Notebook",
         "15.6",
         "1366x768",
         "Intel Core i3 7130U 2.7GHz",
         "4GB",
         "1TB HDD",
         "Intel HD Graphics 620",
         "Linux",
         "2.1kg",
         "367.0"
        ],
        [
         "37",
         "38",
         "Dell",
         "Inspiron 5770",
         "Notebook",
         "17.3",
         "IPS Panel Full HD 1920x1080",
         "Intel Core i5 8250U 1.6GHz",
         "8GB",
         "128GB SSD +  1TB HDD",
         "AMD Radeon 530",
         "Windows 10",
         "2.8kg",
         "979.0"
        ],
        [
         "38",
         "39",
         "HP",
         "250 G6",
         "Notebook",
         "15.6",
         "1366x768",
         "Intel Core i5 7200U 2.5GHz",
         "4GB",
         "1TB HDD",
         "Intel HD Graphics 620",
         "Windows 10",
         "1.86kg",
         "488.69"
        ],
        [
         "39",
         "40",
         "HP",
         "ProBook 450",
         "Notebook",
         "15.6",
         "Full HD 1920x1080",
         "Intel Core i5 8250U 1.6GHz",
         "8GB",
         "256GB SSD",
         "Nvidia GeForce 930MX ",
         "Windows 10",
         "2.1kg",
         "879.0"
        ],
        [
         "40",
         "41",
         "Asus",
         "X540UA-DM186 (i3-6006U/4GB/1TB/FHD/Linux)",
         "Notebook",
         "15.6",
         "Full HD 1920x1080",
         "Intel Core i3 6006U 2GHz",
         "4GB",
         "1TB HDD",
         "Intel HD Graphics 620",
         "Linux",
         "2kg",
         "389.0"
        ],
        [
         "41",
         "42",
         "Dell",
         "Inspiron 7577",
         "Gaming",
         "15.6",
         "IPS Panel Full HD 1920x1080",
         "Intel Core i7 7700HQ 2.8GHz",
         "16GB",
         "256GB SSD +  1TB HDD",
         "Nvidia GeForce GTX 1060",
         "Windows 10",
         "2.65kg",
         "1499.0"
        ],
        [
         "42",
         "43",
         "Asus",
         "X542UQ-GO005 (i5-7200U/8GB/1TB/GeForce",
         "Notebook",
         "15.6",
         "1366x768",
         "Intel Core i5 7200U 2.5GHz",
         "8GB",
         "1TB HDD",
         "Nvidia GeForce 940MX",
         "Linux",
         "2.3kg",
         "522.99"
        ],
        [
         "43",
         "44",
         "Acer",
         "Aspire A515-51G",
         "Notebook",
         "15.6",
         "IPS Panel Full HD 1920x1080",
         "Intel Core i5 8250U 1.6GHz",
         "4GB",
         "256GB SSD",
         "Intel UHD Graphics 620",
         "Windows 10",
         "2.2kg",
         "682.0"
        ],
        [
         "44",
         "45",
         "Dell",
         "Inspiron 7773",
         "2 in 1 Convertible",
         "17.3",
         "Full HD / Touchscreen 1920x1080",
         "Intel Core i5 8250U 1.6GHz",
         "12GB",
         "1TB HDD",
         "Nvidia GeForce 150MX",
         "Windows 10",
         "2.77kg",
         "999.0"
        ],
        [
         "45",
         "46",
         "Apple",
         "MacBook Pro",
         "Ultrabook",
         "13.3",
         "IPS Panel Retina Display 2560x1600",
         "Intel Core i5 2.0GHz",
         "8GB",
         "256GB SSD",
         "Intel Iris Graphics 540",
         "macOS",
         "1.37kg",
         "1419.0"
        ],
        [
         "46",
         "47",
         "Lenovo",
         "IdeaPad 320-15ISK",
         "Notebook",
         "15.6",
         "1366x768",
         "Intel Core i3 6006U 2GHz",
         "4GB",
         "128GB SSD",
         "Intel HD Graphics 520",
         "Android",
         "2.2kg",
         "369.0"
        ],
        [
         "47",
         "48",
         "Asus",
         "Rog Strix",
         "Gaming",
         "17.3",
         "Full HD 1920x1080",
         "AMD Ryzen 1700 3GHz",
         "8GB",
         "256GB SSD +  1TB HDD",
         "AMD Radeon RX 580",
         "Windows 10",
         "3.2kg",
         "1299.0"
        ],
        [
         "48",
         "49",
         "Dell",
         "Inspiron 3567",
         "Notebook",
         "15.6",
         "Full HD 1920x1080",
         "Intel Core i5 7200U 2.5GHz",
         "4GB",
         "256GB SSD",
         "AMD Radeon R5 M430",
         "Windows 10",
         "2.3kg",
         "639.0"
        ],
        [
         "49",
         "50",
         "Asus",
         "X751NV-TY001T (N4200/4GB/1TB/GeForce",
         "Notebook",
         "17.3",
         "1366x768",
         "Intel Pentium Quad Core N4200 1.1GHz",
         "4GB",
         "1TB HDD",
         "Nvidia GeForce 920MX",
         "Windows 10",
         "2.8kg",
         "466.0"
        ]
       ],
       "shape": {
        "columns": 13,
        "rows": 1303
       }
      },
      "text/html": [
       "<div>\n",
       "<style scoped>\n",
       "    .dataframe tbody tr th:only-of-type {\n",
       "        vertical-align: middle;\n",
       "    }\n",
       "\n",
       "    .dataframe tbody tr th {\n",
       "        vertical-align: top;\n",
       "    }\n",
       "\n",
       "    .dataframe thead th {\n",
       "        text-align: right;\n",
       "    }\n",
       "</style>\n",
       "<table border=\"1\" class=\"dataframe\">\n",
       "  <thead>\n",
       "    <tr style=\"text-align: right;\">\n",
       "      <th></th>\n",
       "      <th>laptop_id</th>\n",
       "      <th>manufacturers_info</th>\n",
       "      <th>product</th>\n",
       "      <th>laptop_type</th>\n",
       "      <th>inches</th>\n",
       "      <th>screen_resolution</th>\n",
       "      <th>device_processor (CPU)</th>\n",
       "      <th>device_memory (RAM)</th>\n",
       "      <th>memory_capacity</th>\n",
       "      <th>gpu</th>\n",
       "      <th>operating_system</th>\n",
       "      <th>weight</th>\n",
       "      <th>price_euros</th>\n",
       "    </tr>\n",
       "  </thead>\n",
       "  <tbody>\n",
       "    <tr>\n",
       "      <th>0</th>\n",
       "      <td>1</td>\n",
       "      <td>Apple</td>\n",
       "      <td>MacBook Pro</td>\n",
       "      <td>Ultrabook</td>\n",
       "      <td>13.3</td>\n",
       "      <td>IPS Panel Retina Display 2560x1600</td>\n",
       "      <td>Intel Core i5 2.3GHz</td>\n",
       "      <td>8GB</td>\n",
       "      <td>128GB SSD</td>\n",
       "      <td>Intel Iris Plus Graphics 640</td>\n",
       "      <td>macOS</td>\n",
       "      <td>1.37kg</td>\n",
       "      <td>1339.69</td>\n",
       "    </tr>\n",
       "    <tr>\n",
       "      <th>1</th>\n",
       "      <td>2</td>\n",
       "      <td>Apple</td>\n",
       "      <td>Macbook Air</td>\n",
       "      <td>Ultrabook</td>\n",
       "      <td>13.3</td>\n",
       "      <td>1440x900</td>\n",
       "      <td>Intel Core i5 1.8GHz</td>\n",
       "      <td>8GB</td>\n",
       "      <td>128GB Flash Storage</td>\n",
       "      <td>Intel HD Graphics 6000</td>\n",
       "      <td>macOS</td>\n",
       "      <td>1.34kg</td>\n",
       "      <td>898.94</td>\n",
       "    </tr>\n",
       "    <tr>\n",
       "      <th>2</th>\n",
       "      <td>3</td>\n",
       "      <td>HP</td>\n",
       "      <td>250 G6</td>\n",
       "      <td>Notebook</td>\n",
       "      <td>15.6</td>\n",
       "      <td>Full HD 1920x1080</td>\n",
       "      <td>Intel Core i5 7200U 2.5GHz</td>\n",
       "      <td>8GB</td>\n",
       "      <td>256GB SSD</td>\n",
       "      <td>Intel HD Graphics 620</td>\n",
       "      <td>Android</td>\n",
       "      <td>1.86kg</td>\n",
       "      <td>575.00</td>\n",
       "    </tr>\n",
       "    <tr>\n",
       "      <th>3</th>\n",
       "      <td>4</td>\n",
       "      <td>Apple</td>\n",
       "      <td>MacBook Pro</td>\n",
       "      <td>Ultrabook</td>\n",
       "      <td>15.4</td>\n",
       "      <td>IPS Panel Retina Display 2880x1800</td>\n",
       "      <td>Intel Core i7 2.7GHz</td>\n",
       "      <td>16GB</td>\n",
       "      <td>512GB SSD</td>\n",
       "      <td>AMD Radeon Pro 455</td>\n",
       "      <td>macOS</td>\n",
       "      <td>1.83kg</td>\n",
       "      <td>2537.45</td>\n",
       "    </tr>\n",
       "    <tr>\n",
       "      <th>4</th>\n",
       "      <td>5</td>\n",
       "      <td>Apple</td>\n",
       "      <td>MacBook Pro</td>\n",
       "      <td>Ultrabook</td>\n",
       "      <td>13.3</td>\n",
       "      <td>IPS Panel Retina Display 2560x1600</td>\n",
       "      <td>Intel Core i5 3.1GHz</td>\n",
       "      <td>8GB</td>\n",
       "      <td>256GB SSD</td>\n",
       "      <td>Intel Iris Plus Graphics 650</td>\n",
       "      <td>macOS</td>\n",
       "      <td>1.37kg</td>\n",
       "      <td>1803.60</td>\n",
       "    </tr>\n",
       "    <tr>\n",
       "      <th>...</th>\n",
       "      <td>...</td>\n",
       "      <td>...</td>\n",
       "      <td>...</td>\n",
       "      <td>...</td>\n",
       "      <td>...</td>\n",
       "      <td>...</td>\n",
       "      <td>...</td>\n",
       "      <td>...</td>\n",
       "      <td>...</td>\n",
       "      <td>...</td>\n",
       "      <td>...</td>\n",
       "      <td>...</td>\n",
       "      <td>...</td>\n",
       "    </tr>\n",
       "    <tr>\n",
       "      <th>1298</th>\n",
       "      <td>1316</td>\n",
       "      <td>Lenovo</td>\n",
       "      <td>Yoga 500-14ISK</td>\n",
       "      <td>2 in 1 Convertible</td>\n",
       "      <td>14.0</td>\n",
       "      <td>IPS Panel Full HD / Touchscreen 1920x1080</td>\n",
       "      <td>Intel Core i7 6500U 2.5GHz</td>\n",
       "      <td>4GB</td>\n",
       "      <td>128GB SSD</td>\n",
       "      <td>Intel HD Graphics 520</td>\n",
       "      <td>Windows 10</td>\n",
       "      <td>1.8kg</td>\n",
       "      <td>638.00</td>\n",
       "    </tr>\n",
       "    <tr>\n",
       "      <th>1299</th>\n",
       "      <td>1317</td>\n",
       "      <td>Lenovo</td>\n",
       "      <td>Yoga 900-13ISK</td>\n",
       "      <td>2 in 1 Convertible</td>\n",
       "      <td>13.3</td>\n",
       "      <td>IPS Panel Quad HD+ / Touchscreen 3200x1800</td>\n",
       "      <td>Intel Core i7 6500U 2.5GHz</td>\n",
       "      <td>16GB</td>\n",
       "      <td>512GB SSD</td>\n",
       "      <td>Intel HD Graphics 520</td>\n",
       "      <td>Windows 10</td>\n",
       "      <td>1.3kg</td>\n",
       "      <td>1499.00</td>\n",
       "    </tr>\n",
       "    <tr>\n",
       "      <th>1300</th>\n",
       "      <td>1318</td>\n",
       "      <td>Lenovo</td>\n",
       "      <td>IdeaPad 100S-14IBR</td>\n",
       "      <td>Notebook</td>\n",
       "      <td>14.0</td>\n",
       "      <td>1366x768</td>\n",
       "      <td>Intel Celeron Dual Core N3050 1.6GHz</td>\n",
       "      <td>2GB</td>\n",
       "      <td>64GB Flash Storage</td>\n",
       "      <td>Intel HD Graphics</td>\n",
       "      <td>Windows 10</td>\n",
       "      <td>1.5kg</td>\n",
       "      <td>229.00</td>\n",
       "    </tr>\n",
       "    <tr>\n",
       "      <th>1301</th>\n",
       "      <td>1319</td>\n",
       "      <td>HP</td>\n",
       "      <td>15-AC110nv (i7-6500U/6GB/1TB/Radeon</td>\n",
       "      <td>Notebook</td>\n",
       "      <td>15.6</td>\n",
       "      <td>1366x768</td>\n",
       "      <td>Intel Core i7 6500U 2.5GHz</td>\n",
       "      <td>6GB</td>\n",
       "      <td>1TB HDD</td>\n",
       "      <td>AMD Radeon R5 M330</td>\n",
       "      <td>Windows 10</td>\n",
       "      <td>2.19kg</td>\n",
       "      <td>764.00</td>\n",
       "    </tr>\n",
       "    <tr>\n",
       "      <th>1302</th>\n",
       "      <td>1320</td>\n",
       "      <td>Asus</td>\n",
       "      <td>X553SA-XX031T (N3050/4GB/500GB/W10)</td>\n",
       "      <td>Notebook</td>\n",
       "      <td>15.6</td>\n",
       "      <td>1366x768</td>\n",
       "      <td>Intel Celeron Dual Core N3050 1.6GHz</td>\n",
       "      <td>4GB</td>\n",
       "      <td>500GB HDD</td>\n",
       "      <td>Intel HD Graphics</td>\n",
       "      <td>Windows 10</td>\n",
       "      <td>2.2kg</td>\n",
       "      <td>369.00</td>\n",
       "    </tr>\n",
       "  </tbody>\n",
       "</table>\n",
       "<p>1303 rows × 13 columns</p>\n",
       "</div>"
      ],
      "text/plain": [
       "      laptop_id manufacturers_info                              product  \\\n",
       "0             1              Apple                          MacBook Pro   \n",
       "1             2              Apple                          Macbook Air   \n",
       "2             3                 HP                               250 G6   \n",
       "3             4              Apple                          MacBook Pro   \n",
       "4             5              Apple                          MacBook Pro   \n",
       "...         ...                ...                                  ...   \n",
       "1298       1316             Lenovo                       Yoga 500-14ISK   \n",
       "1299       1317             Lenovo                       Yoga 900-13ISK   \n",
       "1300       1318             Lenovo                   IdeaPad 100S-14IBR   \n",
       "1301       1319                 HP  15-AC110nv (i7-6500U/6GB/1TB/Radeon   \n",
       "1302       1320               Asus  X553SA-XX031T (N3050/4GB/500GB/W10)   \n",
       "\n",
       "             laptop_type  inches                           screen_resolution  \\\n",
       "0              Ultrabook    13.3          IPS Panel Retina Display 2560x1600   \n",
       "1              Ultrabook    13.3                                    1440x900   \n",
       "2               Notebook    15.6                           Full HD 1920x1080   \n",
       "3              Ultrabook    15.4          IPS Panel Retina Display 2880x1800   \n",
       "4              Ultrabook    13.3          IPS Panel Retina Display 2560x1600   \n",
       "...                  ...     ...                                         ...   \n",
       "1298  2 in 1 Convertible    14.0   IPS Panel Full HD / Touchscreen 1920x1080   \n",
       "1299  2 in 1 Convertible    13.3  IPS Panel Quad HD+ / Touchscreen 3200x1800   \n",
       "1300            Notebook    14.0                                    1366x768   \n",
       "1301            Notebook    15.6                                    1366x768   \n",
       "1302            Notebook    15.6                                    1366x768   \n",
       "\n",
       "                    device_processor (CPU) device_memory (RAM)  \\\n",
       "0                     Intel Core i5 2.3GHz                 8GB   \n",
       "1                     Intel Core i5 1.8GHz                 8GB   \n",
       "2               Intel Core i5 7200U 2.5GHz                 8GB   \n",
       "3                     Intel Core i7 2.7GHz                16GB   \n",
       "4                     Intel Core i5 3.1GHz                 8GB   \n",
       "...                                    ...                 ...   \n",
       "1298            Intel Core i7 6500U 2.5GHz                 4GB   \n",
       "1299            Intel Core i7 6500U 2.5GHz                16GB   \n",
       "1300  Intel Celeron Dual Core N3050 1.6GHz                 2GB   \n",
       "1301            Intel Core i7 6500U 2.5GHz                 6GB   \n",
       "1302  Intel Celeron Dual Core N3050 1.6GHz                 4GB   \n",
       "\n",
       "          memory_capacity                           gpu operating_system  \\\n",
       "0               128GB SSD  Intel Iris Plus Graphics 640            macOS   \n",
       "1     128GB Flash Storage        Intel HD Graphics 6000            macOS   \n",
       "2               256GB SSD         Intel HD Graphics 620          Android   \n",
       "3               512GB SSD            AMD Radeon Pro 455            macOS   \n",
       "4               256GB SSD  Intel Iris Plus Graphics 650            macOS   \n",
       "...                   ...                           ...              ...   \n",
       "1298            128GB SSD         Intel HD Graphics 520       Windows 10   \n",
       "1299            512GB SSD         Intel HD Graphics 520       Windows 10   \n",
       "1300   64GB Flash Storage             Intel HD Graphics       Windows 10   \n",
       "1301              1TB HDD            AMD Radeon R5 M330       Windows 10   \n",
       "1302            500GB HDD             Intel HD Graphics       Windows 10   \n",
       "\n",
       "      weight  price_euros  \n",
       "0     1.37kg      1339.69  \n",
       "1     1.34kg       898.94  \n",
       "2     1.86kg       575.00  \n",
       "3     1.83kg      2537.45  \n",
       "4     1.37kg      1803.60  \n",
       "...      ...          ...  \n",
       "1298   1.8kg       638.00  \n",
       "1299   1.3kg      1499.00  \n",
       "1300   1.5kg       229.00  \n",
       "1301  2.19kg       764.00  \n",
       "1302   2.2kg       369.00  \n",
       "\n",
       "[1303 rows x 13 columns]"
      ]
     },
     "execution_count": 15,
     "metadata": {},
     "output_type": "execute_result"
    }
   ],
   "source": [
    "# Replace inconsistent operating system names.\n",
    "df[\"operating_system\"] = df[\"operating_system\"].replace({\"Mac OS X\": \"MacOS\"})\n",
    "df"
   ]
  },
  {
   "cell_type": "code",
   "execution_count": null,
   "id": "c8776c7c",
   "metadata": {},
   "outputs": [],
   "source": [
    "# Flag all incosistencies in memory capacity\n"
   ]
  },
  {
   "cell_type": "code",
   "execution_count": null,
   "id": "2c7d0259-aca4-4b66-acda-191e0c69f01b",
   "metadata": {},
   "outputs": [
    {
     "ename": "KeyError",
     "evalue": "'Price_euros'",
     "output_type": "error",
     "traceback": [
      "\u001b[31m---------------------------------------------------------------------------\u001b[39m",
      "\u001b[31mKeyError\u001b[39m                                  Traceback (most recent call last)",
      "\u001b[36mFile \u001b[39m\u001b[32mc:\\Users\\Scientist\\Documents\\GitHub\\Laptop-Price-Prediction-Model\\venv\\Lib\\site-packages\\pandas\\core\\indexes\\base.py:3812\u001b[39m, in \u001b[36mIndex.get_loc\u001b[39m\u001b[34m(self, key)\u001b[39m\n\u001b[32m   3811\u001b[39m \u001b[38;5;28;01mtry\u001b[39;00m:\n\u001b[32m-> \u001b[39m\u001b[32m3812\u001b[39m     \u001b[38;5;28;01mreturn\u001b[39;00m \u001b[38;5;28;43mself\u001b[39;49m\u001b[43m.\u001b[49m\u001b[43m_engine\u001b[49m\u001b[43m.\u001b[49m\u001b[43mget_loc\u001b[49m\u001b[43m(\u001b[49m\u001b[43mcasted_key\u001b[49m\u001b[43m)\u001b[49m\n\u001b[32m   3813\u001b[39m \u001b[38;5;28;01mexcept\u001b[39;00m \u001b[38;5;167;01mKeyError\u001b[39;00m \u001b[38;5;28;01mas\u001b[39;00m err:\n",
      "\u001b[36mFile \u001b[39m\u001b[32mpandas/_libs/index.pyx:167\u001b[39m, in \u001b[36mpandas._libs.index.IndexEngine.get_loc\u001b[39m\u001b[34m()\u001b[39m\n",
      "\u001b[36mFile \u001b[39m\u001b[32mpandas/_libs/index.pyx:196\u001b[39m, in \u001b[36mpandas._libs.index.IndexEngine.get_loc\u001b[39m\u001b[34m()\u001b[39m\n",
      "\u001b[36mFile \u001b[39m\u001b[32mpandas/_libs/hashtable_class_helper.pxi:7088\u001b[39m, in \u001b[36mpandas._libs.hashtable.PyObjectHashTable.get_item\u001b[39m\u001b[34m()\u001b[39m\n",
      "\u001b[36mFile \u001b[39m\u001b[32mpandas/_libs/hashtable_class_helper.pxi:7096\u001b[39m, in \u001b[36mpandas._libs.hashtable.PyObjectHashTable.get_item\u001b[39m\u001b[34m()\u001b[39m\n",
      "\u001b[31mKeyError\u001b[39m: 'Price_euros'",
      "\nThe above exception was the direct cause of the following exception:\n",
      "\u001b[31mKeyError\u001b[39m                                  Traceback (most recent call last)",
      "\u001b[36mCell\u001b[39m\u001b[36m \u001b[39m\u001b[32mIn[14]\u001b[39m\u001b[32m, line 2\u001b[39m\n\u001b[32m      1\u001b[39m plt.figure(figsize=(\u001b[32m8\u001b[39m,\u001b[32m5\u001b[39m))\n\u001b[32m----> \u001b[39m\u001b[32m2\u001b[39m sns.histplot(\u001b[43mdf\u001b[49m\u001b[43m[\u001b[49m\u001b[33;43m'\u001b[39;49m\u001b[33;43mPrice_euros\u001b[39;49m\u001b[33;43m'\u001b[39;49m\u001b[43m]\u001b[49m, bins=\u001b[32m50\u001b[39m, kde=\u001b[38;5;28;01mTrue\u001b[39;00m)\n\u001b[32m      3\u001b[39m plt.title(\u001b[33m\"\u001b[39m\u001b[33mLaptop Price Distribution\u001b[39m\u001b[33m\"\u001b[39m)\n\u001b[32m      4\u001b[39m plt.show()\n",
      "\u001b[36mFile \u001b[39m\u001b[32mc:\\Users\\Scientist\\Documents\\GitHub\\Laptop-Price-Prediction-Model\\venv\\Lib\\site-packages\\pandas\\core\\frame.py:4107\u001b[39m, in \u001b[36mDataFrame.__getitem__\u001b[39m\u001b[34m(self, key)\u001b[39m\n\u001b[32m   4105\u001b[39m \u001b[38;5;28;01mif\u001b[39;00m \u001b[38;5;28mself\u001b[39m.columns.nlevels > \u001b[32m1\u001b[39m:\n\u001b[32m   4106\u001b[39m     \u001b[38;5;28;01mreturn\u001b[39;00m \u001b[38;5;28mself\u001b[39m._getitem_multilevel(key)\n\u001b[32m-> \u001b[39m\u001b[32m4107\u001b[39m indexer = \u001b[38;5;28;43mself\u001b[39;49m\u001b[43m.\u001b[49m\u001b[43mcolumns\u001b[49m\u001b[43m.\u001b[49m\u001b[43mget_loc\u001b[49m\u001b[43m(\u001b[49m\u001b[43mkey\u001b[49m\u001b[43m)\u001b[49m\n\u001b[32m   4108\u001b[39m \u001b[38;5;28;01mif\u001b[39;00m is_integer(indexer):\n\u001b[32m   4109\u001b[39m     indexer = [indexer]\n",
      "\u001b[36mFile \u001b[39m\u001b[32mc:\\Users\\Scientist\\Documents\\GitHub\\Laptop-Price-Prediction-Model\\venv\\Lib\\site-packages\\pandas\\core\\indexes\\base.py:3819\u001b[39m, in \u001b[36mIndex.get_loc\u001b[39m\u001b[34m(self, key)\u001b[39m\n\u001b[32m   3814\u001b[39m     \u001b[38;5;28;01mif\u001b[39;00m \u001b[38;5;28misinstance\u001b[39m(casted_key, \u001b[38;5;28mslice\u001b[39m) \u001b[38;5;129;01mor\u001b[39;00m (\n\u001b[32m   3815\u001b[39m         \u001b[38;5;28misinstance\u001b[39m(casted_key, abc.Iterable)\n\u001b[32m   3816\u001b[39m         \u001b[38;5;129;01mand\u001b[39;00m \u001b[38;5;28many\u001b[39m(\u001b[38;5;28misinstance\u001b[39m(x, \u001b[38;5;28mslice\u001b[39m) \u001b[38;5;28;01mfor\u001b[39;00m x \u001b[38;5;129;01min\u001b[39;00m casted_key)\n\u001b[32m   3817\u001b[39m     ):\n\u001b[32m   3818\u001b[39m         \u001b[38;5;28;01mraise\u001b[39;00m InvalidIndexError(key)\n\u001b[32m-> \u001b[39m\u001b[32m3819\u001b[39m     \u001b[38;5;28;01mraise\u001b[39;00m \u001b[38;5;167;01mKeyError\u001b[39;00m(key) \u001b[38;5;28;01mfrom\u001b[39;00m\u001b[38;5;250m \u001b[39m\u001b[34;01merr\u001b[39;00m\n\u001b[32m   3820\u001b[39m \u001b[38;5;28;01mexcept\u001b[39;00m \u001b[38;5;167;01mTypeError\u001b[39;00m:\n\u001b[32m   3821\u001b[39m     \u001b[38;5;66;03m# If we have a listlike key, _check_indexing_error will raise\u001b[39;00m\n\u001b[32m   3822\u001b[39m     \u001b[38;5;66;03m#  InvalidIndexError. Otherwise we fall through and re-raise\u001b[39;00m\n\u001b[32m   3823\u001b[39m     \u001b[38;5;66;03m#  the TypeError.\u001b[39;00m\n\u001b[32m   3824\u001b[39m     \u001b[38;5;28mself\u001b[39m._check_indexing_error(key)\n",
      "\u001b[31mKeyError\u001b[39m: 'Price_euros'"
     ]
    },
    {
     "data": {
      "text/plain": [
       "<Figure size 800x500 with 0 Axes>"
      ]
     },
     "metadata": {},
     "output_type": "display_data"
    }
   ],
   "source": [
    "plt.figure(figsize=(8,5))\n",
    "sns.histplot(df['Price_euros'], bins=50, kde=True)\n",
    "plt.title(\"Laptop Price Distribution\")\n",
    "plt.show()\n",
    "\n",
    "sns.boxplot(x=df['Price_euros'])\n",
    "plt.title(\"Laptop Price Spread\")\n",
    "plt.show()"
   ]
  },
  {
   "cell_type": "code",
   "execution_count": null,
   "id": "8187becf-3788-4705-a826-34a81b5caae6",
   "metadata": {},
   "outputs": [
    {
     "data": {
      "image/png": "[encoded data removed]",
      "text/plain": [
       "<Figure size 1000x500 with 1 Axes>"
      ]
     },
     "metadata": {},
     "output_type": "display_data"
    }
   ],
   "source": [
    "plt.figure(figsize=(10,5))\n",
    "sns.countplot(y=df['Company'], order=df['Company'].value_counts().index)\n",
    "plt.title(\"Distribution of Laptops by Company\")\n",
    "plt.show()"
   ]
  },
  {
   "cell_type": "code",
   "execution_count": null,
   "id": "4066c73b-b442-4cab-b0fc-fab87b019ede",
   "metadata": {},
   "outputs": [
    {
     "data": {
      "image/png": "[encoded data removed]",
      "text/plain": [
       "<Figure size 1200x600 with 1 Axes>"
      ]
     },
     "metadata": {},
     "output_type": "display_data"
    }
   ],
   "source": [
    "plt.figure(figsize=(12,6))\n",
    "sns.boxplot(x='Company', y='Price_euros', data=df)\n",
    "plt.xticks(rotation=45)\n",
    "plt.title(\"Laptop Price by Company\")\n",
    "plt.show()"
   ]
  },
  {
   "cell_type": "code",
   "execution_count": null,
   "id": "3c0d5db9-9602-4dcb-9700-e27d4551fac4",
   "metadata": {},
   "outputs": [
    {
     "data": {
      "image/png": "[encoded data removed]",
      "text/plain": [
       "<Figure size 800x500 with 1 Axes>"
      ]
     },
     "metadata": {},
     "output_type": "display_data"
    }
   ],
   "source": [
    "plt.figure(figsize=(8,5))\n",
    "sns.scatterplot(x='Ram', y='Price_euros', data=df)\n",
    "plt.title(\"Laptop Price vs. RAM\")\n",
    "plt.show()"
   ]
  },
  {
   "cell_type": "code",
   "execution_count": null,
   "id": "730ab03a-8dbf-4e86-9aac-dfd972997389",
   "metadata": {},
   "outputs": [
    {
     "data": {
      "image/png": "[encoded data removed]",
      "text/plain": [
       "<Figure size 800x500 with 1 Axes>"
      ]
     },
     "metadata": {},
     "output_type": "display_data"
    }
   ],
   "source": [
    "plt.figure(figsize=(8,5))\n",
    "sns.scatterplot(x='Weight', y='Price_euros', data=df)\n",
    "plt.title(\"Laptop Price vs. Weight\")\n",
    "plt.show()"
   ]
  },
  {
   "cell_type": "code",
   "execution_count": null,
   "id": "d8d56f80-ba8e-410b-80a4-30caf46c8c83",
   "metadata": {},
   "outputs": [
    {
     "data": {
      "image/png": "[encoded data removed]",
      "text/plain": [
       "<Figure size 1000x600 with 2 Axes>"
      ]
     },
     "metadata": {},
     "output_type": "display_data"
    },
    {
     "data": {
      "application/vnd.microsoft.datawrangler.viewer.v0+json": {
       "columns": [
        {
         "name": "index",
         "rawType": "object",
         "type": "string"
        },
        {
         "name": "Price_euros",
         "rawType": "float64",
         "type": "float"
        }
       ],
       "ref": "65f02a4a-9673-4d80-83a2-a47c4f0248c9",
       "rows": [
        [
         "Price_euros",
         "1.0"
        ],
        [
         "Inches",
         "0.06819666592963958"
        ],
        [
         "laptop_ID",
         "0.06783032876360903"
        ]
       ],
       "shape": {
        "columns": 1,
        "rows": 3
       }
      },
      "text/plain": [
       "Price_euros    1.000000\n",
       "Inches         0.068197\n",
       "laptop_ID      0.067830\n",
       "Name: Price_euros, dtype: float64"
      ]
     },
     "execution_count": 12,
     "metadata": {},
     "output_type": "execute_result"
    }
   ],
   "source": [
    "# Focus on numerical features only\n",
    "corr = df.corr(numeric_only=True)\n",
    "\n",
    "plt.figure(figsize=(10,6))\n",
    "sns.heatmap(corr, annot=True, cmap=\"coolwarm\", fmt=\".2f\")\n",
    "plt.title(\"Correlation Heatmap\")\n",
    "plt.show()\n",
    "\n",
    "corr['Price_euros'].sort_values(ascending=False)"
   ]
  },
  {
   "cell_type": "markdown",
   "id": "20081416-9ab9-4832-afea-8e6989396808",
   "metadata": {},
   "source": [
    "### Most Influential Factors Affecting Laptop pricesnBased on my Analysis\n",
    "\n",
    "Based on the exploratory data analysis:\n",
    "\n",
    "- **RAM**: Strong positive relationship with laptop prices. Laptops with higher RAM tend to be more expensive.  \n",
    "- **Processor Type / CPU Generation**: Newer and faster processors significantly increase laptop price.  \n",
    "- **GPU**: Laptops with dedicated GPUs (e.g., NVIDIA, AMD) cost more than those with integrated graphics.  \n",
    "- **Company / Brand**: Premium brands such as Apple and Dell XPS models are generally more expensive.  \n",
    "- **Storage Type**: SSD-based laptops are priced higher compared to HDD-only laptops.  \n",
    "- **Weight**: Lightweight ultrabooks often have higher prices due to their premium build quality.\n",
    "\n",
    "###  Conclusion\n",
    "From the analysis, **RAM, processor type, and GPU presence** appear to be the most influential features affecting laptop prices.  \n"
   ]
  },
  {
   "cell_type": "code",
   "execution_count": null,
   "id": "b9051d72-3c1a-4a81-8d4b-ec787fb24c1a",
   "metadata": {},
   "outputs": [],
   "source": []
  }
 ],
 "metadata": {
  "kernelspec": {
   "display_name": "venv",
   "language": "python",
   "name": "python3"
  },
  "language_info": {
   "codemirror_mode": {
    "name": "ipython",
    "version": 3
   },
   "file_extension": ".py",
   "mimetype": "text/x-python",
   "name": "python",
   "nbconvert_exporter": "python",
   "pygments_lexer": "ipython3",
   "version": "3.11.8"
  }
 },
 "nbformat": 4,
 "nbformat_minor": 5
}
