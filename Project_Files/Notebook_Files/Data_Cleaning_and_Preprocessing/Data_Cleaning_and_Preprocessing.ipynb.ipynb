{
 "cells": [
  {
   "cell_type": "markdown",
   "id": "cd79da87",
   "metadata": {},
   "source": [
    "Data cleaning and preprocessing.\n",
    "\n",
    "Steps\n",
    "- Load Dataset/ Dataset Overview.\n",
    "\n",
    "- Check missing Values.\n",
    "   - Drop down rows, fill with mean/median/mode.\n",
    "\n",
    " - Detect outliers in numeric columns\n",
    "\n",
    " - Encode  Categorical Features  \n",
    "    - Use Label Encoding for ordinal categories.\n",
    "    - Use One - Hot Encoding for norminal features.\n",
    "\n",
    "- Visual Inspections\n",
    "  - use Heatmaps, Barcharts/Histograms to visualize missing patterns.\n"
   ]
  },
  {
   "cell_type": "markdown",
   "id": "410b4910",
   "metadata": {},
   "source": [
    "Load Datasets / Datasets Overview"
   ]
  },
  {
   "cell_type": "code",
   "execution_count": null,
   "id": "77639264",
   "metadata": {},
   "outputs": [],
   "source": [
    "import pandas as pd\n",
    "import numpy as np\n",
    "import matplotlib.pyplot as plt\n",
    "import seaborn as sns\n",
    "import missingno as msno\n",
    "import scipy as sp\n",
    "\n",
    "# Load datasets.\n",
    "file_path = \"Datasets/laptop_price.csv\"\n",
    "data = pd.read_csv(file_path, encoding=\"latin1\")\n",
    "data"
   ]
  },
  {
   "cell_type": "code",
   "execution_count": null,
   "id": "03d9b802",
   "metadata": {},
   "outputs": [],
   "source": [
    "# Display the first 10 Rows of dataset.\n",
    "data.head(10)"
   ]
  },
  {
   "cell_type": "code",
   "execution_count": null,
   "id": "ac691a7a",
   "metadata": {},
   "outputs": [],
   "source": [
    "# Display the core datasets column, datatypes and memory alloations.\n",
    "data.info()"
   ]
  },
  {
   "cell_type": "code",
   "execution_count": null,
   "id": "d0a193d5",
   "metadata": {},
   "outputs": [],
   "source": [
    "# Display 10 random rows.\n",
    "data.sample(10)"
   ]
  },
  {
   "cell_type": "code",
   "execution_count": null,
   "id": "b7955b81",
   "metadata": {},
   "outputs": [],
   "source": [
    "# Display columns\n",
    "data.columns"
   ]
  },
  {
   "cell_type": "code",
   "execution_count": null,
   "id": "27012cd0",
   "metadata": {},
   "outputs": [],
   "source": [
    "# Standardise column names to lowercase and add underscores.\n",
    "data.columns = data.columns.str.lower().str.replace(\"-\", \"\")\n",
    "data.columns"
   ]
  },
  {
   "cell_type": "code",
   "execution_count": null,
   "id": "ab14a931",
   "metadata": {},
   "outputs": [],
   "source": [
    "# Correct column abbreviated column names.\n",
    "data.rename(columns={\"cpu\": \"device_processor (CPU)\", \"ram\": \"device_memory (RAM)\", \"opsys\" : \"operating_system\", \"typename\": \"laptop_type\", \"memory\": \"memory_capacity\"}, inplace=True)\n",
    "data.columns"
   ]
  },
  {
   "cell_type": "code",
   "execution_count": null,
   "id": "aae618e4",
   "metadata": {},
   "outputs": [],
   "source": [
    "# Correct screen resolution column name.\n",
    "data.rename(columns={\"screenresolution\": \"screen_resolution\", \"company\" : \"manufacturers_info\"}, inplace=True)\n",
    "data.columns"
   ]
  },
  {
   "cell_type": "code",
   "execution_count": null,
   "id": "d95f89af",
   "metadata": {},
   "outputs": [],
   "source": [
    "# Get column summary statistics\n",
    "data.describe()"
   ]
  },
  {
   "cell_type": "code",
   "execution_count": null,
   "id": "588c1033",
   "metadata": {},
   "outputs": [],
   "source": [
    "# Display summary of categorical columns.\n",
    "data.describe(include=\"object\")"
   ]
  },
  {
   "cell_type": "markdown",
   "id": "806407ce",
   "metadata": {},
   "source": [
    "CHECK FOR MISSING VALUES."
   ]
  },
  {
   "cell_type": "code",
   "execution_count": null,
   "id": "014e67fb",
   "metadata": {},
   "outputs": [],
   "source": [
    "# Check for missing values.\n",
    "data.isnull().sum()"
   ]
  },
  {
   "cell_type": "code",
   "execution_count": null,
   "id": "e85901ca",
   "metadata": {},
   "outputs": [],
   "source": [
    "# Check for missing values in categorical variables.\n",
    "missing_Values = data.select_dtypes(include=\"object\").isnull().sum()\n",
    "missing_Values"
   ]
  },
  {
   "cell_type": "code",
   "execution_count": null,
   "id": "c45b116c",
   "metadata": {},
   "outputs": [],
   "source": [
    "# Use boolean mask to check for rows with missing values.\n",
    "data_mask = data.isnull()\n",
    "rows_with_missing_var = data[data_mask.any(axis=1)]\n",
    "print(rows_with_missing_var)\n",
    "print(\"Report!\\nThere are no rows with missing values.\")\n",
    "\n"
   ]
  },
  {
   "cell_type": "code",
   "execution_count": null,
   "id": "1e06b990",
   "metadata": {},
   "outputs": [],
   "source": [
    "# Display of full metadata of rows with missing data.\n",
    "rows_with_missing_var.info()"
   ]
  },
  {
   "cell_type": "code",
   "execution_count": null,
   "id": "2cb0e747",
   "metadata": {},
   "outputs": [],
   "source": [
    "# Inspect missing data in each column to find missing values.\n",
    "for column in data.select_dtypes(include=[\"object\"]).columns:\n",
    "    detail = data[column].unique()\n",
    "    print('\\nUnique values in {} are :{}'.format(column, data[column].unique()))\n",
    "  "
   ]
  },
  {
   "cell_type": "code",
   "execution_count": null,
   "id": "a644dda8",
   "metadata": {},
   "outputs": [],
   "source": [
    "# Visualize inspection of missing data\n",
    "# Use heatmaps to chek missing values.\n",
    "plt.figure(figsize=(12, 8))\n",
    "sns.heatmap(data[[\"manufacturers_info\", \"product\", \"laptop_type\", \"device_processor (CPU)\", \"device_memory (RAM)\", \"operating_system\"]][:100].isnull(), cbar=True, cmap=\"viridis\")\n",
    "plt.title(\"Heatmap of Missing Values\")\n",
    "plt.xticks(rotation=45)\n",
    "plt.show()"
   ]
  },
  {
   "cell_type": "code",
   "execution_count": null,
   "id": "5d26250f",
   "metadata": {},
   "outputs": [],
   "source": [
    "# Bar chart for missing values per column\n",
    "missing_values = data.isnull().sum()\n",
    "missing_values.plot(kind=\"bar\", figsize=(14, 6))\n",
    "plt.title(\"Missing Values per Column\")\n",
    "plt.xlabel(\"Columns\")\n",
    "plt.ylabel(\"Count of Missing Values\")\n",
    "plt.xticks(rotation=45)\n",
    "plt.show()"
   ]
  },
  {
   "cell_type": "code",
   "execution_count": null,
   "id": "b051e301",
   "metadata": {},
   "outputs": [],
   "source": [
    "# Detect missing data using MissingNo Dendrogram\n",
    "msno.dendrogram(data)\n",
    "plt.title(\"Dendrogram of Missingness\")\n",
    "plt.show()"
   ]
  },
  {
   "cell_type": "markdown",
   "id": "c46ef2cc",
   "metadata": {},
   "source": [
    "DETECT OUTLIERS IN NUMERIC COLUMNS"
   ]
  },
  {
   "cell_type": "code",
   "execution_count": null,
   "id": "c1f4cb81",
   "metadata": {},
   "outputs": [],
   "source": [
    "# Using IQR Method\n",
    "numeric_col = data.select_dtypes(include=[\"int64\", \"float64\"]).columns\n",
    "outliers_iqr = {}\n",
    "for col in numeric_col:\n",
    "    Q1 = data[col].quantile(0.25)\n",
    "    Q3 = data[col].quantile(0.75)\n",
    "    IQR = Q3 - Q1\n",
    "    lower_bound = Q1 - 1.5 * IQR\n",
    "    upper_bound = Q3 + 1.5 * IQR\n",
    "    outliers_iqr[col] = data[(data[col] < lower_bound) | (data[col] > upper_bound)][col]\n",
    "    print(\"Outliers found in {} using IQR are:\".format(col))\n",
    "    print(outliers_iqr[col].head())"
   ]
  },
  {
   "cell_type": "code",
   "execution_count": null,
   "id": "0d216866",
   "metadata": {},
   "outputs": [],
   "source": [
    "\n",
    "# Ensure numeric_col is defined\n",
    "if 'numeric_col' not in locals():\n",
    "    numeric_col = data.select_dtypes(include=[\"int64\", \"float64\"]).columns\n",
    "\n",
    "# Using Z-Score Method.\n",
    "statistics = sp.stats\n",
    "outliers_score = {}\n",
    "for col in numeric_col:\n",
    "    z_scores = statistics.zscore(data[col].dropna())\n",
    "    abs_z_scores = np.abs(z_scores)\n",
    "    outliers = data[col][abs_z_scores > 3]\n",
    "    outliers_score[col] = outliers\n",
    "    print(\"Outliers found in {} using z-score are:\".format(col))\n",
    "    print(outliers.head())\n",
    "\n",
    "\n"
   ]
  },
  {
   "cell_type": "code",
   "execution_count": null,
   "id": "54d22d07",
   "metadata": {},
   "outputs": [],
   "source": [
    "# Box plots for outlier visualization.\n",
    "for col in numeric_col:\n",
    "    plt.figure(figsize=(10, 6))\n",
    "    sns.boxplot(x=data[col])\n",
    "    plt.title(\"Box plot of {}\".format(col))\n",
    "    plt.show()\n"
   ]
  },
  {
   "cell_type": "code",
   "execution_count": null,
   "id": "27eabe0b",
   "metadata": {},
   "outputs": [],
   "source": [
    "# Boxplots to display outliers using quartiles.\n",
    "data[numeric_col].plot(kind=\"box\", subplots=True, layout=(2, 4), figsize=(15, 10), title=\"Box plots of Numeric Columns\")\n"
   ]
  },
  {
   "cell_type": "code",
   "execution_count": null,
   "id": "1755dc33",
   "metadata": {},
   "outputs": [],
   "source": [
    "# Scatter plots Displaying Outliers.\n",
    "for col in numeric_col:\n",
    "    plt.figure(figsize=(10, 6))\n",
    "    plt.scatter(data.index, data[col])\n",
    "    plt.title(\"Scatter plot of {}\".format(col))\n",
    "    plt.xlabel(\"Index\")\n",
    "    plt.ylabel(col)\n",
    "    plt.show()"
   ]
  },
  {
   "cell_type": "code",
   "execution_count": null,
   "id": "aa44f089",
   "metadata": {},
   "outputs": [],
   "source": [
    "# Display relationship between numeric of outliers of z-score and IQR methods.\n",
    "for col in numeric_col:\n",
    "    plt.figure(figsize=(12, 6))\n",
    "    plt.scatter(data.index, data[col], label= \"Data Pointa\", color=\"purple\", alpha=0.05)\n",
    "    plt.scatter(outliers_iqr[col].index, outliers_iqr[col], label=\"IQR Outliers\", color=\"red\", alpha=0.6)\n",
    "    plt.scatter(outliers_score[col].index, outliers_score[col], label=\"z_scores Outliers\", color=\"green\", alpha=0.6)\n",
    "    plt.title(\"Outliers in {} using IQR and Z-Score methods\".format(col))\n",
    "    plt.xlabel(\"Index\")\n",
    "    plt.ylabel(col)\n",
    "    plt.legend()\n",
    "    plt.show()"
   ]
  },
  {
   "cell_type": "markdown",
   "id": "b2216ddc",
   "metadata": {},
   "source": [
    "\n",
    " - Encode  Categorical Features  \n",
    "    - Use Label Encoding for ordinal categories.\n",
    "    - Use One - Hot Encoding for norminal features."
   ]
  },
  {
   "cell_type": "code",
   "execution_count": null,
   "id": "915fdb19",
   "metadata": {},
   "outputs": [],
   "source": [
    "# Use of Label Encoding to convert categorical variabls.\n",
    "from sklearn.preprocessing import LabelEncoder\n",
    "label_encoder = LabelEncoder()\n",
    "for col in data.select_dtypes(include=[\"object\"]).columns:\n",
    "    data[col] = label_encoder.fit_transform(data[col].astype(str))\n",
    "    data[col].head()"
   ]
  },
  {
   "cell_type": "code",
   "execution_count": null,
   "id": "309a415c",
   "metadata": {},
   "outputs": [],
   "source": [
    "data.info()"
   ]
  },
  {
   "cell_type": "code",
   "execution_count": null,
   "id": "a7bfcfb8",
   "metadata": {},
   "outputs": [],
   "source": [
    "# use one hot encoding to convert categorical variables.\n",
    "data = pd.get_dummies(data, drop_first=True)\n",
    "data.info()"
   ]
  },
  {
   "cell_type": "code",
   "execution_count": null,
   "id": "80751ef4",
   "metadata": {},
   "outputs": [],
   "source": [
    "# Save Final Cleaned Data sets\n",
    "data.to_csv(\"Datasets/cleaned_laptop_price_data.csv\", index=False, encoding=\"utf-8\")"
   ]
  },
  {
   "cell_type": "code",
   "execution_count": null,
   "id": "bdb1ff50",
   "metadata": {},
   "outputs": [],
   "source": []
  }
 ],
 "metadata": {
  "kernelspec": {
   "display_name": "venv",
   "language": "python",
   "name": "python3"
  },
  "language_info": {
   "codemirror_mode": {
    "name": "ipython",
    "version": 3
   },
   "file_extension": ".py",
   "mimetype": "text/x-python",
   "name": "python",
   "nbconvert_exporter": "python",
   "pygments_lexer": "ipython3",
   "version": "3.11.8"
  }
 },
 "nbformat": 4,
 "nbformat_minor": 5
}
