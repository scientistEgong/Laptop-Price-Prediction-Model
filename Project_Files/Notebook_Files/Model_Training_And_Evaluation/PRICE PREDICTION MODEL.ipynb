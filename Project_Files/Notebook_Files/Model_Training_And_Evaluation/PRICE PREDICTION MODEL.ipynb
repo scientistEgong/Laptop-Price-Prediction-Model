{
 "cells": [
  {
   "cell_type": "code",
   "execution_count": null,
   "metadata": {
    "executionInfo": {
     "elapsed": 2255,
     "status": "ok",
     "timestamp": 1757386409756,
     "user": {
      "displayName": "Andifon Ben",
      "userId": "15463541737716226478"
     },
     "user_tz": 420
    },
    "id": "IoFZNK-YYWQ5"
   },
   "outputs": [
    {
     "ename": "",
     "evalue": "",
     "output_type": "error",
     "traceback": [
      "\u001b[1;31mRunning cells with 'Python 3.11.9' requires the ipykernel package.\n",
      "\u001b[1;31mInstall 'ipykernel' into the Python environment. \n",
      "\u001b[1;31mCommand: 'c:/Users/Scientist/AppData/Local/Microsoft/WindowsApps/python3.11.exe -m pip install ipykernel -U --user --force-reinstall'"
     ]
    }
   ],
   "source": [
    "import pandas as pd\n",
    "import numpy as np\n",
    "import matplotlib.pyplot as plt\n",
    "import seaborn as sns\n",
    "\n",
    "from sklearn.model_selection import train_test_split\n",
    "from sklearn.linear_model import LinearRegression\n",
    "from sklearn.metrics import mean_squared_error\n"
   ]
  },
  {
   "cell_type": "code",
   "execution_count": null,
   "metadata": {
    "colab": {
     "base_uri": "https://localhost:8080/",
     "height": 243
    },
    "executionInfo": {
     "elapsed": 179,
     "status": "ok",
     "timestamp": 1757386616440,
     "user": {
      "displayName": "Andifon Ben",
      "userId": "15463541737716226478"
     },
     "user_tz": 420
    },
    "id": "c1xJ1vHkZHyk",
    "outputId": "f5b8b758-93fe-4ef6-a371-6266acc943f5"
   },
   "outputs": [],
   "source": [
    "df = pd.read_csv('Datasets/cleaned_laptop_price_data.csv')  # use your file name\n",
    "df.head()\n"
   ]
  },
  {
   "cell_type": "code",
   "execution_count": null,
   "metadata": {
    "colab": {
     "base_uri": "https://localhost:8080/",
     "height": 491
    },
    "executionInfo": {
     "elapsed": 90,
     "status": "ok",
     "timestamp": 1757386719811,
     "user": {
      "displayName": "Andifon Ben",
      "userId": "15463541737716226478"
     },
     "user_tz": 420
    },
    "id": "fdkatOAiZPLZ",
    "outputId": "9234983f-d9d7-42df-cce8-ac17c74c5869"
   },
   "outputs": [],
   "source": [
    "df.dtypes\n"
   ]
  },
  {
   "cell_type": "code",
   "execution_count": null,
   "metadata": {
    "executionInfo": {
     "elapsed": 2,
     "status": "ok",
     "timestamp": 1757386989697,
     "user": {
      "displayName": "Andifon Ben",
      "userId": "15463541737716226478"
     },
     "user_tz": 420
    },
    "id": "ETmSpcGOaT_F"
   },
   "outputs": [],
   "source": [
    "X = df.drop('price_euros', axis=1)\n",
    "y = df['price_euros']\n",
    "\n"
   ]
  },
  {
   "cell_type": "code",
   "execution_count": null,
   "metadata": {
    "executionInfo": {
     "elapsed": 40,
     "status": "ok",
     "timestamp": 1757387027752,
     "user": {
      "displayName": "Andifon Ben",
      "userId": "15463541737716226478"
     },
     "user_tz": 420
    },
    "id": "cUPJNKLSbUZ1"
   },
   "outputs": [],
   "source": [
    "X = pd.get_dummies(X)\n",
    "\n"
   ]
  },
  {
   "cell_type": "code",
   "execution_count": null,
   "metadata": {
    "executionInfo": {
     "elapsed": 26,
     "status": "ok",
     "timestamp": 1757387044884,
     "user": {
      "displayName": "Andifon Ben",
      "userId": "15463541737716226478"
     },
     "user_tz": 420
    },
    "id": "hthYVDzPbfNk"
   },
   "outputs": [],
   "source": [
    "X_train, X_test, y_train, y_test = train_test_split(X, y, test_size=0.3, random_state=30)\n"
   ]
  },
  {
   "cell_type": "code",
   "execution_count": null,
   "metadata": {
    "colab": {
     "base_uri": "https://localhost:8080/",
     "height": 80
    },
    "executionInfo": {
     "elapsed": 396,
     "status": "ok",
     "timestamp": 1757387072878,
     "user": {
      "displayName": "Andifon Ben",
      "userId": "15463541737716226478"
     },
     "user_tz": 420
    },
    "id": "3M9wUESZbjYg",
    "outputId": "e43c3cfb-6aa3-4794-b65a-337adcba7cbe"
   },
   "outputs": [],
   "source": [
    "model = LinearRegression()\n",
    "model.fit(X_train, y_train)\n",
    "\n",
    "\n"
   ]
  },
  {
   "cell_type": "code",
   "execution_count": null,
   "metadata": {
    "colab": {
     "base_uri": "https://localhost:8080/"
    },
    "executionInfo": {
     "elapsed": 17,
     "status": "ok",
     "timestamp": 1757387255430,
     "user": {
      "displayName": "Andifon Ben",
      "userId": "15463541737716226478"
     },
     "user_tz": 420
    },
    "id": "PCOli1_nbqI2",
    "outputId": "7999f6b0-8893-463a-ec38-ee269086f26f"
   },
   "outputs": [],
   "source": [
    "y_pred = model.predict(X_test)\n",
    "mse = mean_squared_error(y_test, y_pred)\n",
    "rmse = np.sqrt(mse)\n",
    "print(\"RMSE:\", rmse)\n",
    "\n"
   ]
  },
  {
   "cell_type": "code",
   "execution_count": null,
   "metadata": {
    "colab": {
     "base_uri": "https://localhost:8080/",
     "height": 472
    },
    "executionInfo": {
     "elapsed": 1009,
     "status": "ok",
     "timestamp": 1757387198456,
     "user": {
      "displayName": "Andifon Ben",
      "userId": "15463541737716226478"
     },
     "user_tz": 420
    },
    "id": "1XUYe8aEbvYO",
    "outputId": "f62fc26f-1ad9-4d00-d2b0-5039db5e733a"
   },
   "outputs": [],
   "source": [
    "plt.scatter(y_test, y_pred)\n",
    "plt.xlabel('Actual Prices')\n",
    "plt.ylabel('Predicted Prices')\n",
    "plt.title('Actual vs Predicted Prices')\n",
    "plt.show()\n",
    "\n"
   ]
  },
  {
   "cell_type": "code",
   "execution_count": null,
   "metadata": {
    "colab": {
     "base_uri": "https://localhost:8080/"
    },
    "executionInfo": {
     "elapsed": 37,
     "status": "ok",
     "timestamp": 1757387785972,
     "user": {
      "displayName": "Andifon Ben",
      "userId": "15463541737716226478"
     },
     "user_tz": 420
    },
    "id": "QueFiORrc2Oq",
    "outputId": "12c21ba4-cd3c-4908-b26c-4e2ec3eca821"
   },
   "outputs": [],
   "source": [
    "from sklearn.metrics import r2_score\n",
    "print(\"R² Score:\", r2_score(y_test, y_pred))"
   ]
  },
  {
   "cell_type": "code",
   "execution_count": null,
   "metadata": {
    "executionInfo": {
     "elapsed": 501,
     "status": "ok",
     "timestamp": 1757387639687,
     "user": {
      "displayName": "Andifon Ben",
      "userId": "15463541737716226478"
     },
     "user_tz": 420
    },
    "id": "KPLp7-3Fc_OM"
   },
   "outputs": [],
   "source": [
    "from sklearn.ensemble import RandomForestRegressor\n",
    "\n"
   ]
  },
  {
   "cell_type": "code",
   "execution_count": null,
   "metadata": {
    "colab": {
     "base_uri": "https://localhost:8080/",
     "height": 80
    },
    "executionInfo": {
     "elapsed": 11716,
     "status": "ok",
     "timestamp": 1757387691084,
     "user": {
      "displayName": "Andifon Ben",
      "userId": "15463541737716226478"
     },
     "user_tz": 420
    },
    "id": "1ONmiuAmd0fh",
    "outputId": "46254af0-24fa-4eac-e784-708c3abdc762"
   },
   "outputs": [],
   "source": [
    "rf_model = RandomForestRegressor(random_state=30)\n",
    "rf_model.fit(X_train, y_train)\n",
    "\n"
   ]
  },
  {
   "cell_type": "code",
   "execution_count": null,
   "metadata": {
    "executionInfo": {
     "elapsed": 21,
     "status": "ok",
     "timestamp": 1757387719603,
     "user": {
      "displayName": "Andifon Ben",
      "userId": "15463541737716226478"
     },
     "user_tz": 420
    },
    "id": "Fh3uYtTEd-SF"
   },
   "outputs": [],
   "source": [
    "y_pred = rf_model.predict(X_test)\n"
   ]
  },
  {
   "cell_type": "code",
   "execution_count": null,
   "metadata": {
    "colab": {
     "base_uri": "https://localhost:8080/"
    },
    "executionInfo": {
     "elapsed": 56,
     "status": "ok",
     "timestamp": 1757387829607,
     "user": {
      "displayName": "Andifon Ben",
      "userId": "15463541737716226478"
     },
     "user_tz": 420
    },
    "id": "uJyu0JffeIIK",
    "outputId": "d655af7c-06cd-457a-e473-d8be5d555ff4"
   },
   "outputs": [],
   "source": [
    "from sklearn.metrics import mean_squared_error, r2_score\n",
    "import numpy as np\n",
    "\n",
    "mse = mean_squared_error(y_test, y_pred)\n",
    "rmse = np.sqrt(mse)\n",
    "r2 = r2_score(y_test, y_pred)\n",
    "\n",
    "print(\"RMSE:\", rmse)\n",
    "print(\"R² Score:\", r2)\n",
    "\n"
   ]
  },
  {
   "cell_type": "code",
   "execution_count": null,
   "metadata": {
    "colab": {
     "base_uri": "https://localhost:8080/"
    },
    "executionInfo": {
     "elapsed": 10373,
     "status": "ok",
     "timestamp": 1757389094926,
     "user": {
      "displayName": "Andifon Ben",
      "userId": "15463541737716226478"
     },
     "user_tz": 420
    },
    "id": "JK7sasuFeRXa",
    "outputId": "e9ee5978-362d-45f8-aee9-6e604096ffed"
   },
   "outputs": [],
   "source": [
    "import sys\n",
    "!{sys.executable} -m pip install xgboost\n",
    "!pip install xgboost\n"
   ]
  },
  {
   "cell_type": "code",
   "execution_count": null,
   "metadata": {
    "executionInfo": {
     "elapsed": 1998,
     "status": "ok",
     "timestamp": 1757389115586,
     "user": {
      "displayName": "Andifon Ben",
      "userId": "15463541737716226478"
     },
     "user_tz": 420
    },
    "id": "Unz8lpp9jVXR"
   },
   "outputs": [],
   "source": [
    "from xgboost import XGBRegressor\n",
    "from sklearn.metrics import mean_squared_error, r2_score\n",
    "\n"
   ]
  },
  {
   "cell_type": "code",
   "execution_count": null,
   "metadata": {
    "colab": {
     "base_uri": "https://localhost:8080/",
     "height": 253
    },
    "executionInfo": {
     "elapsed": 929,
     "status": "ok",
     "timestamp": 1757389171852,
     "user": {
      "displayName": "Andifon Ben",
      "userId": "15463541737716226478"
     },
     "user_tz": 420
    },
    "id": "ptN5p7Asjcd5",
    "outputId": "14fb333a-bc10-4f87-ec20-06f32a2fc225"
   },
   "outputs": [],
   "source": [
    "xgb_model = XGBRegressor()\n",
    "xgb_model.fit(X_train, y_train)\n",
    "\n",
    "\n"
   ]
  },
  {
   "cell_type": "code",
   "execution_count": null,
   "metadata": {
    "executionInfo": {
     "elapsed": 24,
     "status": "ok",
     "timestamp": 1757389190156,
     "user": {
      "displayName": "Andifon Ben",
      "userId": "15463541737716226478"
     },
     "user_tz": 420
    },
    "id": "y3SsZI9ojqdr"
   },
   "outputs": [],
   "source": [
    "y_pred = xgb_model.predict(X_test)\n",
    "\n"
   ]
  },
  {
   "cell_type": "code",
   "execution_count": null,
   "metadata": {
    "colab": {
     "base_uri": "https://localhost:8080/"
    },
    "executionInfo": {
     "elapsed": 12,
     "status": "ok",
     "timestamp": 1757389210965,
     "user": {
      "displayName": "Andifon Ben",
      "userId": "15463541737716226478"
     },
     "user_tz": 420
    },
    "id": "2NVpctawjvJc",
    "outputId": "2239962c-c24f-4788-a01f-9f2742fb6a57"
   },
   "outputs": [],
   "source": [
    "mse = mean_squared_error(y_test, y_pred)\n",
    "rmse = mse ** 0.5\n",
    "r2 = r2_score(y_test, y_pred)\n",
    "\n",
    "print(\"RMSE:\", rmse)\n",
    "print(\"R² Score:\", r2)\n",
    "\n"
   ]
  },
  {
   "cell_type": "code",
   "execution_count": null,
   "metadata": {
    "colab": {
     "base_uri": "https://localhost:8080/"
    },
    "executionInfo": {
     "elapsed": 8087,
     "status": "ok",
     "timestamp": 1757361094756,
     "user": {
      "displayName": "Andifon Ben",
      "userId": "15463541737716226478"
     },
     "user_tz": 420
    },
    "id": "tgN8BFDQj0M7",
    "outputId": "05de4781-976e-476c-bf13-292fce29499b"
   },
   "outputs": [],
   "source": [
    "from sklearn.model_selection import GridSearchCV\n",
    "from xgboost import XGBRegressor\n",
    "\n",
    "# Define model\n",
    "xgb = XGBRegressor(random_state=30)\n",
    "\n",
    "# Define hyperparameters to tune\n",
    "param_grid = {\n",
    "    'n_estimators': [100, 200],\n",
    "    'max_depth': [3, 5, 7],\n",
    "    'learning_rate': [0.05, 0.1, 0.2]\n",
    "}\n",
    "\n",
    "# Grid search\n",
    "grid_search = GridSearchCV(estimator=xgb, param_grid=param_grid,\n",
    "                           cv=3, scoring='neg_root_mean_squared_error', verbose=1)\n",
    "\n",
    "# Fit\n",
    "grid_search.fit(X_train, y_train)\n",
    "\n",
    "# Best model\n",
    "best_model = grid_search.best_estimator_\n",
    "print(\"Best Parameters:\", grid_search.best_params_)"
   ]
  },
  {
   "cell_type": "code",
   "execution_count": null,
   "metadata": {
    "colab": {
     "base_uri": "https://localhost:8080/"
    },
    "executionInfo": {
     "elapsed": 499,
     "status": "ok",
     "timestamp": 1757361202467,
     "user": {
      "displayName": "Andifon Ben",
      "userId": "15463541737716226478"
     },
     "user_tz": 420
    },
    "id": "ZcEaML3U4Xct",
    "outputId": "4fadfb7e-9888-408b-9c40-55ea9cf9b2f2"
   },
   "outputs": [],
   "source": [
    "y_pred = best_model.predict(X_test)\n",
    "\n",
    "mse = mean_squared_error(y_test, y_pred)\n",
    "rmse = np.sqrt(mse)\n",
    "r2 = r2_score(y_test, y_pred)\n",
    "\n",
    "print(\"Tuned RMSE:\", rmse)\n",
    "print(\"Tuned R² Score:\", r2)\n",
    "\n"
   ]
  },
  {
   "cell_type": "code",
   "execution_count": null,
   "metadata": {
    "colab": {
     "base_uri": "https://localhost:8080/",
     "height": 486
    },
    "executionInfo": {
     "elapsed": 1358,
     "status": "ok",
     "timestamp": 1757361674788,
     "user": {
      "displayName": "Andifon Ben",
      "userId": "15463541737716226478"
     },
     "user_tz": 420
    },
    "id": "84g3iEWh4-GU",
    "outputId": "0afacd08-9c45-4841-df1c-cdd2a9ca3f2f"
   },
   "outputs": [],
   "source": [
    "plt.figure(figsize=(8, 6))\n",
    "plt.scatter(y_test, y_pred, color='teal', alpha=0.6)\n",
    "plt.xlabel(\"Actual Prices\")\n",
    "plt.ylabel(\"Predicted Prices\")\n",
    "plt.title(\"Actual vs Predicted Laptop Prices (XGBoost)\")\n",
    "plt.plot([y_test.min(), y_test.max()], [y_test.min(), y_test.max()], color='red')  # Line of perfect prediction\n",
    "plt.grid(True)\n",
    "plt.tight_layout()\n",
    "plt.show()\n",
    "\n"
   ]
  },
  {
   "cell_type": "code",
   "execution_count": null,
   "metadata": {
    "colab": {
     "base_uri": "https://localhost:8080/",
     "height": 472
    },
    "executionInfo": {
     "elapsed": 668,
     "status": "ok",
     "timestamp": 1757362141110,
     "user": {
      "displayName": "Andifon Ben",
      "userId": "15463541737716226478"
     },
     "user_tz": 420
    },
    "id": "sRTWhRVD7id8",
    "outputId": "345e3b7b-4720-436d-8652-330873a2ae80"
   },
   "outputs": [],
   "source": [
    "import matplotlib.pyplot as plt\n",
    "import numpy as np\n",
    "\n",
    "plt.scatter(y_test, y_pred, alpha=0.6)\n",
    "plt.plot([y_test.min(), y_test.max()], [y_test.min(), y_test.max()], 'r--', linewidth=2)  # Diagonal line\n",
    "plt.xlabel(\"Actual Prices\")\n",
    "plt.ylabel(\"Predicted Prices\")\n",
    "plt.title(\"Actual vs Predicted Prices with Reference Line\")\n",
    "plt.show()\n",
    "\n"
   ]
  },
  {
   "cell_type": "code",
   "execution_count": null,
   "metadata": {
    "colab": {
     "base_uri": "https://localhost:8080/",
     "height": 515
    },
    "executionInfo": {
     "elapsed": 415,
     "status": "ok",
     "timestamp": 1757362460656,
     "user": {
      "displayName": "Andifon Ben",
      "userId": "15463541737716226478"
     },
     "user_tz": 420
    },
    "id": "mQg4VkBL8jNA",
    "outputId": "e4fa3be8-2761-4edf-b65a-3d70cd5e915d"
   },
   "outputs": [],
   "source": [
    "import pandas as pd\n",
    "import matplotlib.pyplot as plt\n",
    "\n",
    "# Get feature importances from the model\n",
    "importances = best_model.feature_importances_\n",
    "\n",
    "# Create a pandas series for easier plotting\n",
    "feature_importance_series = pd.Series(importances, index=X_train.columns)\n",
    "\n",
    "# Sort by importance\n",
    "feature_importance_series = feature_importance_series.sort_values(ascending=False)\n",
    "\n",
    "# Plot\n",
    "plt.figure(figsize=(10,6))\n",
    "feature_importance_series.plot(kind='bar')\n",
    "plt.title('Feature Importance')\n",
    "plt.ylabel('Importance Score')\n",
    "plt.show()"
   ]
  },
  {
   "cell_type": "code",
   "execution_count": null,
   "metadata": {
    "colab": {
     "base_uri": "https://localhost:8080/",
     "height": 707
    },
    "executionInfo": {
     "elapsed": 1598,
     "status": "ok",
     "timestamp": 1757362885233,
     "user": {
      "displayName": "Andifon Ben",
      "userId": "15463541737716226478"
     },
     "user_tz": 420
    },
    "id": "TF-s2cnH9kBt",
    "outputId": "2fd6ae52-d0a3-426e-bcd4-158880dc72ae"
   },
   "outputs": [],
   "source": [
    "import matplotlib.pyplot as plt\n",
    "import seaborn as sns\n",
    "import numpy as np\n",
    "\n",
    "# Predict on test data\n",
    "y_pred = best_model.predict(X_test)\n",
    "\n",
    "# Calculate residuals (errors)\n",
    "residuals = y_test - y_pred\n",
    "\n",
    "# Plot residuals histogram\n",
    "plt.figure(figsize=(10,5))\n",
    "sns.histplot(residuals, bins=30, kde=True)\n",
    "plt.title('Residuals Distribution')\n",
    "plt.xlabel('Error (Actual - Predicted)')\n",
    "plt.show()\n",
    "\n",
    "# Residuals vs Predicted values scatter plot\n",
    "plt.figure(figsize=(10,5))\n",
    "plt.scatter(y_pred, residuals, alpha=0.5)\n",
    "plt.axhline(y=0, color='r', linestyle='--')\n",
    "plt.title('Residuals vs Predicted Values')\n",
    "plt.xlabel('Predicted Price')\n",
    "plt.ylabel('Residuals (Error)')\n",
    "plt.show()"
   ]
  },
  {
   "cell_type": "code",
   "execution_count": null,
   "metadata": {
    "colab": {
     "base_uri": "https://localhost:8080/"
    },
    "executionInfo": {
     "elapsed": 263,
     "status": "ok",
     "timestamp": 1757364784900,
     "user": {
      "displayName": "Andifon Ben",
      "userId": "15463541737716226478"
     },
     "user_tz": 420
    },
    "id": "JU5LX1GPE7QS",
    "outputId": "938fe07d-c8e9-4de6-c774-94194700e4aa"
   },
   "outputs": [],
   "source": [
    "import joblib\n",
    "\n",
    "joblib.dump(best_model, 'xgb_model.pkl')\n",
    "\n"
   ]
  },
  {
   "cell_type": "code",
   "execution_count": null,
   "metadata": {
    "colab": {
     "base_uri": "https://localhost:8080/",
     "height": 472
    },
    "executionInfo": {
     "elapsed": 385,
     "status": "ok",
     "timestamp": 1757365333427,
     "user": {
      "displayName": "Andifon Ben",
      "userId": "15463541737716226478"
     },
     "user_tz": 420
    },
    "id": "WnNwrOb4Fjm-",
    "outputId": "4a567d0e-ab44-47b6-c80d-5bc9a1181e35"
   },
   "outputs": [],
   "source": [
    "import matplotlib.pyplot as plt\n",
    "\n",
    "\n",
    "plt.scatter(y_test, y_pred)\n",
    "plt.xlabel('Actual Prices')\n",
    "plt.ylabel('Predicted Prices')\n",
    "plt.title('Actual vs Predicted Laptop Prices')\n",
    "\n",
    "# Save the plot to a file in Colab's virtual environment\n",
    "plt.savefig('actual_vs_predicted.png')\n",
    "\n",
    "plt.show()"
   ]
  },
  {
   "cell_type": "code",
   "execution_count": null,
   "metadata": {
    "colab": {
     "base_uri": "https://localhost:8080/",
     "height": 17
    },
    "executionInfo": {
     "elapsed": 380,
     "status": "ok",
     "timestamp": 1757365367863,
     "user": {
      "displayName": "Andifon Ben",
      "userId": "15463541737716226478"
     },
     "user_tz": 420
    },
    "id": "0naDLDokIpbn",
    "outputId": "ad53ca6c-5ada-48ef-bc9b-794407c24636"
   },
   "outputs": [],
   "source": [
    "from google.colab import files\n",
    "files.download('actual_vs_predicted.png')\n",
    "\n"
   ]
  },
  {
   "cell_type": "code",
   "execution_count": null,
   "metadata": {
    "colab": {
     "base_uri": "https://localhost:8080/",
     "height": 505
    },
    "executionInfo": {
     "elapsed": 1459,
     "status": "ok",
     "timestamp": 1757365483601,
     "user": {
      "displayName": "Andifon Ben",
      "userId": "15463541737716226478"
     },
     "user_tz": 420
    },
    "id": "JD2_24uQI3Dy",
    "outputId": "df180c7d-24d9-40e7-8353-9034bc0447e6"
   },
   "outputs": [],
   "source": [
    "import matplotlib.pyplot as plt\n",
    "from google.colab import files\n",
    "import numpy as np\n",
    "\n",
    "\n",
    "\n",
    "plt.figure(figsize=(8,6))\n",
    "plt.scatter(y_test, y_pred, alpha=0.6)\n",
    "plt.plot([min(y_test), max(y_test)], [min(y_test), max(y_test)], color='red', linestyle='--')  # Red diagonal line\n",
    "plt.xlabel('Actual Prices')\n",
    "plt.ylabel('Predicted Prices')\n",
    "plt.title('Actual vs Predicted Laptop Prices')\n",
    "\n",
    "plt.savefig('actual_vs_predicted.png')  # Save the figure\n",
    "\n",
    "plt.show()\n",
    "\n",
    "files.download('actual_vs_predicted.png')  # Download the saved image\n",
    "\n"
   ]
  },
  {
   "cell_type": "code",
   "execution_count": null,
   "metadata": {
    "colab": {
     "base_uri": "https://localhost:8080/"
    },
    "executionInfo": {
     "elapsed": 33838,
     "status": "ok",
     "timestamp": 1757366003399,
     "user": {
      "displayName": "Andifon Ben",
      "userId": "15463541737716226478"
     },
     "user_tz": 420
    },
    "id": "7xlp8uX0JTDf",
    "outputId": "aa5da2ce-afb3-4d04-816f-d12db56a7af6"
   },
   "outputs": [],
   "source": [
    "from google.colab import drive\n",
    "drive.mount('/content/drive')\n",
    "\n"
   ]
  },
  {
   "cell_type": "code",
   "execution_count": null,
   "metadata": {
    "executionInfo": {
     "elapsed": 47,
     "status": "ok",
     "timestamp": 1757366168673,
     "user": {
      "displayName": "Andifon Ben",
      "userId": "15463541737716226478"
     },
     "user_tz": 420
    },
    "id": "qG59-fC-KhL2"
   },
   "outputs": [],
   "source": [
    "import os\n",
    "\n",
    "# Define the folder path\n",
    "folder_path = '/content/drive/MyDrive/Data Model Building'"
   ]
  },
  {
   "cell_type": "code",
   "execution_count": null,
   "metadata": {
    "colab": {
     "base_uri": "https://localhost:8080/"
    },
    "executionInfo": {
     "elapsed": 49,
     "status": "ok",
     "timestamp": 1757366640126,
     "user": {
      "displayName": "Andifon Ben",
      "userId": "15463541737716226478"
     },
     "user_tz": 420
    },
    "id": "TQ33DwbyLybU",
    "outputId": "5b98761b-e241-46fc-83c5-b12f9a414456"
   },
   "outputs": [],
   "source": [
    "import os\n",
    "import joblib\n",
    "\n",
    "# Define the folder path\n",
    "folder_path = '/content/drive/MyDrive/Data Model Building'\n",
    "\n",
    "# Create the directory if it doesn't exist\n",
    "if not os.path.exists(folder_path):\n",
    "    os.makedirs(folder_path)\n",
    "\n",
    "# Save the model\n",
    "joblib.dump(xgb_model, os.path.join(folder_path, 'xgb_model.pkl'))"
   ]
  },
  {
   "cell_type": "code",
   "execution_count": null,
   "metadata": {
    "colab": {
     "base_uri": "https://localhost:8080/",
     "height": 505
    },
    "executionInfo": {
     "elapsed": 950,
     "status": "ok",
     "timestamp": 1757367095827,
     "user": {
      "displayName": "Andifon Ben",
      "userId": "15463541737716226478"
     },
     "user_tz": 420
    },
    "id": "6XSdetpZNd5t",
    "outputId": "ebcb6ce4-23fe-46e9-938f-2e62f8ed5a27"
   },
   "outputs": [],
   "source": [
    "import matplotlib.pyplot as plt\n",
    "import os\n",
    "\n",
    "# Define the folder path (same as before)\n",
    "folder_path = '/content/drive/MyDrive/Data Model Building'\n",
    "\n",
    "# Make sure folder exists\n",
    "if not os.path.exists(folder_path):\n",
    "    os.makedirs(folder_path)\n",
    "\n",
    "# Your plot code here (example)\n",
    "plt.figure(figsize=(8,6))\n",
    "plt.scatter(y_test, y_pred, alpha=0.6) # Use y_test and y_pred\n",
    "min_val = min(y_test)\n",
    "max_val = max(y_test)\n",
    "plt.plot([min_val, max_val], [min_val, max_val], color='red', linestyle='--')  # diagonal line\n",
    "plt.xlabel('Actual Prices')\n",
    "plt.ylabel('Predicted Prices')\n",
    "plt.title('Actual vs Predicted Prices')\n",
    "\n",
    "# Save plot as PNG in the folder\n",
    "plot_path = os.path.join(folder_path, 'actual_vs_predicted.png')\n",
    "plt.savefig(plot_path)\n",
    "\n",
    "plt.show()"
   ]
  },
  {
   "cell_type": "markdown",
   "metadata": {
    "id": "Pwsu_XE4Scyv"
   },
   "source": [
    "Model Building Summary (Colab Session)\n",
    "\n",
    "Steps Taken:\n",
    "\n",
    "- Mounted Google Drive to access and save files.\n",
    "- Loaded Cleaned Data: cleaned_laptop_price_data.csv\n",
    "- Encoded Categorical Variables using Label Encoding (no binary encoding used).\n",
    "- Explored and Visualized Data using:\n",
    "  - Correlation heatmap\n",
    "  - Diagonal plot (Actual vs Predicted)\n",
    "  - Residual error plots\n",
    "  - Feature importance plot from XGBoost\n",
    "- Tried Multiple Regression Models:\n",
    "  - Linear Regression\n",
    "  - Random Forest Regressor\n",
    "  - XGBoost Regressor\n",
    "- Tuned Hyperparameters for XGBoost to improve performance.\n",
    "- Evaluated Models using R² score, residual plots, and prediction scatter plots.\n",
    "- Identified Influential Features using feature importance plot.\n",
    "- Saved the Best Model (xgb_model.pkl) to:\n",
    "  MyDrive/Data Model Building/\n",
    "- Saved Visualizations (e.g., diagonal plot) as .png files to the same Drive folder.\n",
    "\n",
    "Final Model:\n",
    "- Model: XGBoost Regressor (tuned)\n",
    "- Filename: xgb_model.pkl\n",
    "- Stored In: Google Drive → Data Model Building\n",
    "\n",
    "\n"
   ]
  }
 ],
 "metadata": {
  "colab": {
   "authorship_tag": "ABX9TyPo4dDmZdiGO49x5IEACFAV",
   "provenance": []
  },
  "kernelspec": {
   "display_name": "Python 3",
   "language": "python",
   "name": "python3"
  },
  "language_info": {
   "codemirror_mode": {
    "name": "ipython",
    "version": 3
   },
   "file_extension": ".py",
   "mimetype": "text/x-python",
   "name": "python",
   "nbconvert_exporter": "python",
   "pygments_lexer": "ipython3",
   "version": "3.11.9"
  }
 },
 "nbformat": 4,
 "nbformat_minor": 0
}
