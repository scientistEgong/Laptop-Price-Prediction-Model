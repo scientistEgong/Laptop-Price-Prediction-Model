{
 "cells": [
  {
   "cell_type": "markdown",
   "id": "806b7412",
   "metadata": {},
   "source": [
    "Overview of all project Dependencies\n"
   ]
  },
  {
   "cell_type": "code",
   "execution_count": null,
   "id": "53287286",
   "metadata": {},
   "outputs": [],
   "source": [
    "pip --version"
   ]
  },
  {
   "cell_type": "code",
   "execution_count": null,
   "id": "5e16747b",
   "metadata": {},
   "outputs": [],
   "source": [
    "!python --version"
   ]
  },
  {
   "cell_type": "code",
   "execution_count": null,
   "id": "28cba490",
   "metadata": {},
   "outputs": [],
   "source": [
    "import sys\n",
    "print(sys.executable)"
   ]
  },
  {
   "cell_type": "code",
   "execution_count": null,
   "id": "0eab74bd",
   "metadata": {},
   "outputs": [],
   "source": [
    "# %pip install scikit-learn\n",
    "\n",
    "import numpy as np\n",
    "import pandas as pd\n",
    "import matplotlib.pyplot as plt\n",
    "import seaborn as sns\n",
    "import sklearn as sk\n",
    "import joblib as jb\n",
    "\n",
    "\n",
    "\n",
    "numpy_version = np.__version__\n",
    "pandas_version = pd.__version__\n",
    "import matplotlib\n",
    "matplotlib_version = matplotlib.__version__\n",
    "seaborn_version = sns.__version__\n",
    "sklearn_version = sk.__version__\n",
    "joblib_version = jb.__version__\n",
    "\n",
    "print(\"Numpy Version:\", numpy_version)\n",
    "print(\"Pandas Version:\", pandas_version)\n",
    "print(\"Matplotlib Version:\", matplotlib_version)\n",
    "print(\"Seaborn Version:\", seaborn_version)\n",
    "print(\"Sklearn Version:\", sklearn_version)\n",
    "print(\"Joblib Version:\", joblib_version)\n"
   ]
  },
  {
   "cell_type": "code",
   "execution_count": null,
   "id": "b6e141ce",
   "metadata": {},
   "outputs": [],
   "source": []
  }
 ],
 "metadata": {
  "kernelspec": {
   "display_name": "venv",
   "language": "python",
   "name": "python3"
  },
  "language_info": {
   "codemirror_mode": {
    "name": "ipython",
    "version": 3
   },
   "file_extension": ".py",
   "mimetype": "text/x-python",
   "name": "python",
   "nbconvert_exporter": "python",
   "pygments_lexer": "ipython3",
   "version": "3.11.8"
  }
 },
 "nbformat": 4,
 "nbformat_minor": 5
}
